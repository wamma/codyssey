{
 "cells": [
  {
   "cell_type": "markdown",
   "metadata": {},
   "source": [
    "데이터를 load() 하고 전처리하는 class는 MovieDataLoader로 하고 생성 시 입력 파라미터는 file 경로로 하여 로드 후 결과로 데이터를 return 한다."
   ]
  },
  {
   "cell_type": "code",
   "execution_count": 4,
   "metadata": {},
   "outputs": [],
   "source": [
    "import pandas as pd\n",
    "import random\n",
    "\n",
    "data_path = \"kmrd-small/\"\n",
    "\n",
    "class MovieDataLoader:\n",
    "\tdef __init__(self, data_path: str):\n",
    "\t\tself.rates_file_path = f\"{data_path}/rates.csv\"\n",
    "\t\tself.movies_file_path = f\"{data_path}/movies.txt\"\n",
    "\n",
    "\tdef load(self):\n",
    "\t\ttry:\n",
    "\t\t\trates = pd.read_csv(self.rates_file_path)\n",
    "\t\t\tmovies = pd.read_csv(self.movies_file_path, sep='\\t')\n",
    "\t\t\treturn rates, movies\n",
    "\t\texcept:\n",
    "\t\t\tprint(f\"Error loading data: {e}\")\n",
    "\t\t\treturn None, None"
   ]
  },
  {
   "cell_type": "markdown",
   "metadata": {},
   "source": [
    "추천을 실행하는 함수는 run() 으로 하고 실행 완료 후 결과에 random 평점 field(rate_random)를 추가하고 random 값을 반영해서 결과를 return 한다."
   ]
  },
  {
   "cell_type": "code",
   "execution_count": null,
   "metadata": {},
   "outputs": [],
   "source": []
  },
  {
   "cell_type": "markdown",
   "metadata": {},
   "source": [
    "결과 데이터 평점 높은 순 n개를 출력한다."
   ]
  },
  {
   "cell_type": "code",
   "execution_count": null,
   "metadata": {},
   "outputs": [],
   "source": []
  }
 ],
 "metadata": {
  "kernelspec": {
   "display_name": ".venv",
   "language": "python",
   "name": "python3"
  },
  "language_info": {
   "codemirror_mode": {
    "name": "ipython",
    "version": 3
   },
   "file_extension": ".py",
   "mimetype": "text/x-python",
   "name": "python",
   "nbconvert_exporter": "python",
   "pygments_lexer": "ipython3",
   "version": "3.11.6"
  }
 },
 "nbformat": 4,
 "nbformat_minor": 2
}
