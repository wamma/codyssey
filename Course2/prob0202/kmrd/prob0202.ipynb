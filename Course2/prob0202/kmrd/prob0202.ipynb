{
 "cells": [
  {
   "cell_type": "code",
   "execution_count": 21,
   "metadata": {},
   "outputs": [],
   "source": [
    "import pandas as pd\n",
    "data_path = \"kmr_dataset/datafile/kmrd-small/\""
   ]
  },
  {
   "cell_type": "code",
   "execution_count": 22,
   "metadata": {},
   "outputs": [],
   "source": [
    "castings = pd.read_csv(f\"{data_path}/castings.csv\")\n",
    "countries = pd.read_csv(f\"{data_path}/countries.csv\")\n",
    "genres = pd.read_csv(f\"{data_path}/genres.csv\")\n",
    "ratings = pd.read_csv(f\"{data_path}/rates.csv\")\n",
    "\n",
    "movies = pd.read_csv(f\"{data_path}/movies.txt\", sep='\\t')\n",
    "peoples = pd.read_csv(f\"{data_path}/peoples.txt\", sep='\\t')\n"
   ]
  },
  {
   "cell_type": "code",
   "execution_count": null,
   "metadata": {},
   "outputs": [],
   "source": [
    "# 불러온 데이터프레임 확인\n",
    "print(\"ratings 데이터 셋\")\n",
    "print(ratings.head(), \"\\n\")\n",
    "\n",
    "print(\"movies 데이터 셋\")\n",
    "print(movies.head(), \"\\n\")"
   ]
  },
  {
   "cell_type": "code",
   "execution_count": null,
   "metadata": {},
   "outputs": [],
   "source": [
    "print(ratings.info(), \"\\n\")\n",
    "print(movies.info())"
   ]
  },
  {
   "cell_type": "code",
   "execution_count": null,
   "metadata": {},
   "outputs": [],
   "source": [
    "num_users = ratings['user'].nunique()\n",
    "num_movies_in_ratings = ratings['movie'].nunique()\n",
    "num_movies_in_movies = movies['movie'].nunique()\n",
    "num_ratings = len(ratings)\n",
    "num_countries = countries['country'].nunique()\n",
    "num_cast = castings['people'].nunique()\n",
    "num_peoples = peoples['people'].nunique()\n",
    "\n",
    "print(f\"사용자 수: {num_users}\")\n",
    "print(f\"영화 수(평점 속): {num_movies_in_ratings}\")\n",
    "print(f\"영화 수(영화 속): {num_movies_in_movies}\")\n",
    "print(f\"평점 수: {num_ratings}\")\n",
    "print(f\"제작국가 수: {num_countries}\")\n",
    "print(f\"출연진 수: {num_cast}\")\n",
    "print(f\"사람 수: {num_peoples}\")\n",
    "\n"
   ]
  },
  {
   "cell_type": "code",
   "execution_count": null,
   "metadata": {},
   "outputs": [],
   "source": [
    "ratings"
   ]
  }
 ],
 "metadata": {
  "kernelspec": {
   "display_name": ".venv",
   "language": "python",
   "name": "python3"
  },
  "language_info": {
   "codemirror_mode": {
    "name": "ipython",
    "version": 3
   },
   "file_extension": ".py",
   "mimetype": "text/x-python",
   "name": "python",
   "nbconvert_exporter": "python",
   "pygments_lexer": "ipython3",
   "version": "3.11.6"
  }
 },
 "nbformat": 4,
 "nbformat_minor": 2
}
