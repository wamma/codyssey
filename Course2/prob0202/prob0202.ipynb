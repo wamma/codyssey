{
 "cells": [
  {
   "cell_type": "code",
   "execution_count": 3,
   "metadata": {},
   "outputs": [],
   "source": [
    "import pandas as pd\n",
    "data_path = \"kmrd-small/\""
   ]
  },
  {
   "cell_type": "code",
   "execution_count": 4,
   "metadata": {},
   "outputs": [],
   "source": [
    "castings = pd.read_csv(f\"{data_path}/castings.csv\")\n",
    "countries = pd.read_csv(f\"{data_path}/countries.csv\")\n",
    "genres = pd.read_csv(f\"{data_path}/genres.csv\")\n",
    "ratings = pd.read_csv(f\"{data_path}/rates.csv\")\n",
    "\n",
    "movies = pd.read_csv(f\"{data_path}/movies.txt\", sep='\\t')\n",
    "peoples = pd.read_csv(f\"{data_path}/peoples.txt\", sep='\\t')\n"
   ]
  },
  {
   "cell_type": "code",
   "execution_count": 5,
   "metadata": {},
   "outputs": [
    {
     "name": "stdout",
     "output_type": "stream",
     "text": [
      "ratings 데이터 셋\n",
      "   user  movie  rate        time\n",
      "0     0  10003     7  1494128040\n",
      "1     0  10004     7  1467529800\n",
      "2     0  10018     9  1513344120\n",
      "3     0  10021     9  1424497980\n",
      "4     0  10022     7  1427627340 \n",
      "\n",
      "movies 데이터 셋\n",
      "   movie                 title                           title_eng    year  \\\n",
      "0  10001                시네마 천국              Cinema Paradiso , 1988  2013.0   \n",
      "1  10002              빽 투 더 퓨쳐           Back To The Future , 1985  2015.0   \n",
      "2  10003            빽 투 더 퓨쳐 2    Back To The Future Part 2 , 1989  2015.0   \n",
      "3  10004            빽 투 더 퓨쳐 3  Back To The Future Part III , 1990  1990.0   \n",
      "4  10005  스타워즈 에피소드 4 - 새로운 희망                    Star Wars , 1977  1997.0   \n",
      "\n",
      "     grade  \n",
      "0   전체 관람가  \n",
      "1  12세 관람가  \n",
      "2  12세 관람가  \n",
      "3   전체 관람가  \n",
      "4       PG   \n",
      "\n"
     ]
    }
   ],
   "source": [
    "# 불러온 데이터프레임 확인\n",
    "print(\"ratings 데이터 셋\")\n",
    "print(ratings.head(), \"\\n\")\n",
    "\n",
    "print(\"movies 데이터 셋\")\n",
    "print(movies.head(), \"\\n\")"
   ]
  },
  {
   "cell_type": "code",
   "execution_count": 6,
   "metadata": {},
   "outputs": [
    {
     "name": "stdout",
     "output_type": "stream",
     "text": [
      "<class 'pandas.core.frame.DataFrame'>\n",
      "RangeIndex: 140710 entries, 0 to 140709\n",
      "Data columns (total 4 columns):\n",
      " #   Column  Non-Null Count   Dtype\n",
      "---  ------  --------------   -----\n",
      " 0   user    140710 non-null  int64\n",
      " 1   movie   140710 non-null  int64\n",
      " 2   rate    140710 non-null  int64\n",
      " 3   time    140710 non-null  int64\n",
      "dtypes: int64(4)\n",
      "memory usage: 4.3 MB\n",
      "None \n",
      "\n",
      "<class 'pandas.core.frame.DataFrame'>\n",
      "RangeIndex: 999 entries, 0 to 998\n",
      "Data columns (total 5 columns):\n",
      " #   Column     Non-Null Count  Dtype  \n",
      "---  ------     --------------  -----  \n",
      " 0   movie      999 non-null    int64  \n",
      " 1   title      992 non-null    object \n",
      " 2   title_eng  991 non-null    object \n",
      " 3   year       609 non-null    float64\n",
      " 4   grade      957 non-null    object \n",
      "dtypes: float64(1), int64(1), object(3)\n",
      "memory usage: 39.2+ KB\n",
      "None\n"
     ]
    }
   ],
   "source": [
    "print(ratings.info(), \"\\n\")\n",
    "print(movies.info())"
   ]
  },
  {
   "cell_type": "code",
   "execution_count": 7,
   "metadata": {},
   "outputs": [
    {
     "name": "stdout",
     "output_type": "stream",
     "text": [
      "사용자 수: 52028\n",
      "영화 수(평점 속): 600\n",
      "영화 수(영화 속): 999\n",
      "평점 수: 140710\n",
      "제작국가 수: 36\n",
      "출연진 수: 6644\n",
      "사람 수: 7172\n"
     ]
    }
   ],
   "source": [
    "num_users = ratings['user'].nunique()\n",
    "num_movies_in_ratings = ratings['movie'].nunique()\n",
    "num_movies_in_movies = movies['movie'].nunique()\n",
    "num_ratings = len(ratings)\n",
    "num_countries = countries['country'].nunique()\n",
    "num_cast = castings['people'].nunique()\n",
    "num_peoples = peoples['people'].nunique()\n",
    "\n",
    "print(f\"사용자 수: {num_users}\")\n",
    "print(f\"영화 수(평점 속): {num_movies_in_ratings}\")\n",
    "print(f\"영화 수(영화 속): {num_movies_in_movies}\")\n",
    "print(f\"평점 수: {num_ratings}\")\n",
    "print(f\"제작국가 수: {num_countries}\")\n",
    "print(f\"출연진 수: {num_cast}\")\n",
    "print(f\"사람 수: {num_peoples}\")\n",
    "\n"
   ]
  },
  {
   "cell_type": "code",
   "execution_count": 8,
   "metadata": {},
   "outputs": [
    {
     "data": {
      "text/html": [
       "<div>\n",
       "<style scoped>\n",
       "    .dataframe tbody tr th:only-of-type {\n",
       "        vertical-align: middle;\n",
       "    }\n",
       "\n",
       "    .dataframe tbody tr th {\n",
       "        vertical-align: top;\n",
       "    }\n",
       "\n",
       "    .dataframe thead th {\n",
       "        text-align: right;\n",
       "    }\n",
       "</style>\n",
       "<table border=\"1\" class=\"dataframe\">\n",
       "  <thead>\n",
       "    <tr style=\"text-align: right;\">\n",
       "      <th></th>\n",
       "      <th>user</th>\n",
       "      <th>movie</th>\n",
       "      <th>rate</th>\n",
       "      <th>time</th>\n",
       "    </tr>\n",
       "  </thead>\n",
       "  <tbody>\n",
       "    <tr>\n",
       "      <th>0</th>\n",
       "      <td>0</td>\n",
       "      <td>10003</td>\n",
       "      <td>7</td>\n",
       "      <td>1494128040</td>\n",
       "    </tr>\n",
       "    <tr>\n",
       "      <th>1</th>\n",
       "      <td>0</td>\n",
       "      <td>10004</td>\n",
       "      <td>7</td>\n",
       "      <td>1467529800</td>\n",
       "    </tr>\n",
       "    <tr>\n",
       "      <th>2</th>\n",
       "      <td>0</td>\n",
       "      <td>10018</td>\n",
       "      <td>9</td>\n",
       "      <td>1513344120</td>\n",
       "    </tr>\n",
       "    <tr>\n",
       "      <th>3</th>\n",
       "      <td>0</td>\n",
       "      <td>10021</td>\n",
       "      <td>9</td>\n",
       "      <td>1424497980</td>\n",
       "    </tr>\n",
       "    <tr>\n",
       "      <th>4</th>\n",
       "      <td>0</td>\n",
       "      <td>10022</td>\n",
       "      <td>7</td>\n",
       "      <td>1427627340</td>\n",
       "    </tr>\n",
       "    <tr>\n",
       "      <th>...</th>\n",
       "      <td>...</td>\n",
       "      <td>...</td>\n",
       "      <td>...</td>\n",
       "      <td>...</td>\n",
       "    </tr>\n",
       "    <tr>\n",
       "      <th>140705</th>\n",
       "      <td>52023</td>\n",
       "      <td>10998</td>\n",
       "      <td>10</td>\n",
       "      <td>1421679660</td>\n",
       "    </tr>\n",
       "    <tr>\n",
       "      <th>140706</th>\n",
       "      <td>52024</td>\n",
       "      <td>10998</td>\n",
       "      <td>10</td>\n",
       "      <td>1204622460</td>\n",
       "    </tr>\n",
       "    <tr>\n",
       "      <th>140707</th>\n",
       "      <td>52025</td>\n",
       "      <td>10998</td>\n",
       "      <td>7</td>\n",
       "      <td>1498546920</td>\n",
       "    </tr>\n",
       "    <tr>\n",
       "      <th>140708</th>\n",
       "      <td>52026</td>\n",
       "      <td>10998</td>\n",
       "      <td>9</td>\n",
       "      <td>1434090420</td>\n",
       "    </tr>\n",
       "    <tr>\n",
       "      <th>140709</th>\n",
       "      <td>52027</td>\n",
       "      <td>10998</td>\n",
       "      <td>10</td>\n",
       "      <td>1227036960</td>\n",
       "    </tr>\n",
       "  </tbody>\n",
       "</table>\n",
       "<p>140710 rows × 4 columns</p>\n",
       "</div>"
      ],
      "text/plain": [
       "         user  movie  rate        time\n",
       "0           0  10003     7  1494128040\n",
       "1           0  10004     7  1467529800\n",
       "2           0  10018     9  1513344120\n",
       "3           0  10021     9  1424497980\n",
       "4           0  10022     7  1427627340\n",
       "...       ...    ...   ...         ...\n",
       "140705  52023  10998    10  1421679660\n",
       "140706  52024  10998    10  1204622460\n",
       "140707  52025  10998     7  1498546920\n",
       "140708  52026  10998     9  1434090420\n",
       "140709  52027  10998    10  1227036960\n",
       "\n",
       "[140710 rows x 4 columns]"
      ]
     },
     "execution_count": 8,
     "metadata": {},
     "output_type": "execute_result"
    }
   ],
   "source": [
    "ratings"
   ]
  }
 ],
 "metadata": {
  "kernelspec": {
   "display_name": ".venv",
   "language": "python",
   "name": "python3"
  },
  "language_info": {
   "codemirror_mode": {
    "name": "ipython",
    "version": 3
   },
   "file_extension": ".py",
   "mimetype": "text/x-python",
   "name": "python",
   "nbconvert_exporter": "python",
   "pygments_lexer": "ipython3",
   "version": "3.11.6"
  }
 },
 "nbformat": 4,
 "nbformat_minor": 2
}
