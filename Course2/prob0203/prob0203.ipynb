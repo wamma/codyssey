{
 "cells": [
  {
   "cell_type": "code",
   "execution_count": 1,
   "metadata": {},
   "outputs": [],
   "source": [
    "import pandas as pd\n",
    "data_path = \"kmrd-small/\""
   ]
  },
  {
   "cell_type": "code",
   "execution_count": 2,
   "metadata": {},
   "outputs": [],
   "source": [
    "castings = pd.read_csv(f\"{data_path}/castings.csv\")\n",
    "countries = pd.read_csv(f\"{data_path}/countries.csv\")\n",
    "genres = pd.read_csv(f\"{data_path}/genres.csv\")\n",
    "ratings = pd.read_csv(f\"{data_path}/rates.csv\")\n",
    "\n",
    "movies = pd.read_csv(f\"{data_path}/movies.txt\", sep='\\t')\n",
    "peoples = pd.read_csv(f\"{data_path}/peoples.txt\", sep='\\t')\n"
   ]
  },
  {
   "cell_type": "code",
   "execution_count": 3,
   "metadata": {},
   "outputs": [
    {
     "name": "stdout",
     "output_type": "stream",
     "text": [
      "<class 'pandas.core.frame.DataFrame'>\n",
      "RangeIndex: 9776 entries, 0 to 9775\n",
      "Data columns (total 4 columns):\n",
      " #   Column   Non-Null Count  Dtype\n",
      "---  ------   --------------  -----\n",
      " 0   movie    9776 non-null   int64\n",
      " 1   people   9776 non-null   int64\n",
      " 2   order    9776 non-null   int64\n",
      " 3   leading  9776 non-null   int64\n",
      "dtypes: int64(4)\n",
      "memory usage: 305.6 KB\n",
      "castings info\n",
      "\n",
      "<class 'pandas.core.frame.DataFrame'>\n",
      "RangeIndex: 1109 entries, 0 to 1108\n",
      "Data columns (total 2 columns):\n",
      " #   Column   Non-Null Count  Dtype \n",
      "---  ------   --------------  ----- \n",
      " 0   movie    1109 non-null   int64 \n",
      " 1   country  1109 non-null   object\n",
      "dtypes: int64(1), object(1)\n",
      "memory usage: 17.5+ KB\n",
      "countries info\n",
      "\n",
      "<class 'pandas.core.frame.DataFrame'>\n",
      "RangeIndex: 2025 entries, 0 to 2024\n",
      "Data columns (total 2 columns):\n",
      " #   Column  Non-Null Count  Dtype \n",
      "---  ------  --------------  ----- \n",
      " 0   movie   2025 non-null   int64 \n",
      " 1   genre   2025 non-null   object\n",
      "dtypes: int64(1), object(1)\n",
      "memory usage: 31.8+ KB\n",
      "genres info\n",
      "\n",
      "<class 'pandas.core.frame.DataFrame'>\n",
      "RangeIndex: 140710 entries, 0 to 140709\n",
      "Data columns (total 4 columns):\n",
      " #   Column  Non-Null Count   Dtype\n",
      "---  ------  --------------   -----\n",
      " 0   user    140710 non-null  int64\n",
      " 1   movie   140710 non-null  int64\n",
      " 2   rate    140710 non-null  int64\n",
      " 3   time    140710 non-null  int64\n",
      "dtypes: int64(4)\n",
      "memory usage: 4.3 MB\n",
      "ratings info\n",
      "\n",
      "<class 'pandas.core.frame.DataFrame'>\n",
      "RangeIndex: 999 entries, 0 to 998\n",
      "Data columns (total 5 columns):\n",
      " #   Column     Non-Null Count  Dtype  \n",
      "---  ------     --------------  -----  \n",
      " 0   movie      999 non-null    int64  \n",
      " 1   title      992 non-null    object \n",
      " 2   title_eng  991 non-null    object \n",
      " 3   year       609 non-null    float64\n",
      " 4   grade      957 non-null    object \n",
      "dtypes: float64(1), int64(1), object(3)\n",
      "memory usage: 39.2+ KB\n",
      "movies info\n",
      "\n",
      "<class 'pandas.core.frame.DataFrame'>\n",
      "RangeIndex: 7172 entries, 0 to 7171\n",
      "Data columns (total 3 columns):\n",
      " #   Column    Non-Null Count  Dtype \n",
      "---  ------    --------------  ----- \n",
      " 0   people    7172 non-null   int64 \n",
      " 1   korean    7172 non-null   object\n",
      " 2   original  6305 non-null   object\n",
      "dtypes: int64(1), object(2)\n",
      "memory usage: 168.2+ KB\n",
      "peoples info\n",
      "\n"
     ]
    }
   ],
   "source": [
    "castings.info()\n",
    "print(\"castings info\\n\")\n",
    "countries.info()\n",
    "print(\"countries info\\n\")\n",
    "genres.info()\n",
    "print(\"genres info\\n\")\n",
    "ratings.info()\n",
    "print(\"ratings info\\n\")\n",
    "movies.info()\n",
    "print(\"movies info\\n\")\n",
    "peoples.info()\n",
    "print(\"peoples info\\n\")"
   ]
  },
  {
   "cell_type": "code",
   "execution_count": 4,
   "metadata": {},
   "outputs": [
    {
     "name": "stdout",
     "output_type": "stream",
     "text": [
      "movie          0\n",
      "title          7\n",
      "title_eng      8\n",
      "year         390\n",
      "grade         42\n",
      "dtype: int64\n",
      "people        0\n",
      "korean        0\n",
      "original    867\n",
      "dtype: int64\n"
     ]
    }
   ],
   "source": [
    "print(movies.isnull().sum())\n",
    "print(peoples.isnull().sum())"
   ]
  },
  {
   "cell_type": "markdown",
   "metadata": {},
   "source": [
    "- movies\n",
    "\t- title은 992개 Non-Null → 7개 결측치\n",
    "\t- title_eng는 991개 Non-Null → 8개 결측치\n",
    "\t- year는 609개 Non-Null → 390개 결측치\n",
    "\t- grade는 957개 Non-Null → 42개 결측치\n",
    "- peoples\n",
    "\t- original은 6305개 Non-Null → 867개 결측치"
   ]
  },
  {
   "cell_type": "code",
   "execution_count": 5,
   "metadata": {},
   "outputs": [
    {
     "data": {
      "text/html": [
       "<div>\n",
       "<style scoped>\n",
       "    .dataframe tbody tr th:only-of-type {\n",
       "        vertical-align: middle;\n",
       "    }\n",
       "\n",
       "    .dataframe tbody tr th {\n",
       "        vertical-align: top;\n",
       "    }\n",
       "\n",
       "    .dataframe thead th {\n",
       "        text-align: right;\n",
       "    }\n",
       "</style>\n",
       "<table border=\"1\" class=\"dataframe\">\n",
       "  <thead>\n",
       "    <tr style=\"text-align: right;\">\n",
       "      <th></th>\n",
       "      <th>movie</th>\n",
       "      <th>title</th>\n",
       "      <th>title_eng</th>\n",
       "      <th>year</th>\n",
       "      <th>grade</th>\n",
       "    </tr>\n",
       "  </thead>\n",
       "  <tbody>\n",
       "    <tr>\n",
       "      <th>9</th>\n",
       "      <td>10010</td>\n",
       "      <td>슈퍼맨 3</td>\n",
       "      <td>Superman III , 1983</td>\n",
       "      <td>NaN</td>\n",
       "      <td>전체 관람가</td>\n",
       "    </tr>\n",
       "    <tr>\n",
       "      <th>30</th>\n",
       "      <td>10031</td>\n",
       "      <td>죠스 3</td>\n",
       "      <td>Jaws 3-D , 1983</td>\n",
       "      <td>NaN</td>\n",
       "      <td>15세 관람가</td>\n",
       "    </tr>\n",
       "    <tr>\n",
       "      <th>31</th>\n",
       "      <td>10032</td>\n",
       "      <td>죠스 4</td>\n",
       "      <td>Jaws: The Revenge , 1987</td>\n",
       "      <td>NaN</td>\n",
       "      <td>PG-13</td>\n",
       "    </tr>\n",
       "    <tr>\n",
       "      <th>50</th>\n",
       "      <td>10051</td>\n",
       "      <td>싸이코 2</td>\n",
       "      <td>Psycho II , 1983</td>\n",
       "      <td>NaN</td>\n",
       "      <td>청소년 관람불가</td>\n",
       "    </tr>\n",
       "    <tr>\n",
       "      <th>51</th>\n",
       "      <td>10052</td>\n",
       "      <td>싸이코 3</td>\n",
       "      <td>Psycho III , 1986</td>\n",
       "      <td>NaN</td>\n",
       "      <td>청소년 관람불가</td>\n",
       "    </tr>\n",
       "    <tr>\n",
       "      <th>...</th>\n",
       "      <td>...</td>\n",
       "      <td>...</td>\n",
       "      <td>...</td>\n",
       "      <td>...</td>\n",
       "      <td>...</td>\n",
       "    </tr>\n",
       "    <tr>\n",
       "      <th>992</th>\n",
       "      <td>10993</td>\n",
       "      <td>톰 혼</td>\n",
       "      <td>Tom Horn , 1980</td>\n",
       "      <td>NaN</td>\n",
       "      <td>R</td>\n",
       "    </tr>\n",
       "    <tr>\n",
       "      <th>994</th>\n",
       "      <td>10995</td>\n",
       "      <td>공포의 여정</td>\n",
       "      <td>Journey Into Fear , 1975</td>\n",
       "      <td>NaN</td>\n",
       "      <td>PG</td>\n",
       "    </tr>\n",
       "    <tr>\n",
       "      <th>995</th>\n",
       "      <td>10996</td>\n",
       "      <td>버스틴 루즈</td>\n",
       "      <td>Bustin' Loose , 1981</td>\n",
       "      <td>NaN</td>\n",
       "      <td>R</td>\n",
       "    </tr>\n",
       "    <tr>\n",
       "      <th>996</th>\n",
       "      <td>10997</td>\n",
       "      <td>블랙 엔젤</td>\n",
       "      <td>Mausoleum , 1983</td>\n",
       "      <td>NaN</td>\n",
       "      <td>청소년 관람불가</td>\n",
       "    </tr>\n",
       "    <tr>\n",
       "      <th>998</th>\n",
       "      <td>10999</td>\n",
       "      <td>프랑켄슈타인</td>\n",
       "      <td>Frankenstein , 1931</td>\n",
       "      <td>NaN</td>\n",
       "      <td>NR</td>\n",
       "    </tr>\n",
       "  </tbody>\n",
       "</table>\n",
       "<p>390 rows × 5 columns</p>\n",
       "</div>"
      ],
      "text/plain": [
       "     movie   title                 title_eng  year     grade\n",
       "9    10010   슈퍼맨 3       Superman III , 1983   NaN    전체 관람가\n",
       "30   10031    죠스 3           Jaws 3-D , 1983   NaN   15세 관람가\n",
       "31   10032    죠스 4  Jaws: The Revenge , 1987   NaN     PG-13\n",
       "50   10051   싸이코 2          Psycho II , 1983   NaN  청소년 관람불가\n",
       "51   10052   싸이코 3         Psycho III , 1986   NaN  청소년 관람불가\n",
       "..     ...     ...                       ...   ...       ...\n",
       "992  10993     톰 혼           Tom Horn , 1980   NaN         R\n",
       "994  10995  공포의 여정  Journey Into Fear , 1975   NaN        PG\n",
       "995  10996  버스틴 루즈      Bustin' Loose , 1981   NaN         R\n",
       "996  10997   블랙 엔젤          Mausoleum , 1983   NaN  청소년 관람불가\n",
       "998  10999  프랑켄슈타인       Frankenstein , 1931   NaN        NR\n",
       "\n",
       "[390 rows x 5 columns]"
      ]
     },
     "execution_count": 5,
     "metadata": {},
     "output_type": "execute_result"
    }
   ],
   "source": [
    "# movies, peoples 데이터에 결측치 발생 확인\n",
    "missing_title = movies['year'].isnull()\n",
    "missing_title_rows = movies[missing_title]\n",
    "missing_title_rows"
   ]
  },
  {
   "cell_type": "code",
   "execution_count": 6,
   "metadata": {},
   "outputs": [
    {
     "name": "stdout",
     "output_type": "stream",
     "text": [
      "lower_bound is 7.5\n",
      "upper_bound is 11.5\n",
      "Outliers:\n",
      "          user  movie  rate        time\n",
      "0           0  10003     7  1494128040\n",
      "1           0  10004     7  1467529800\n",
      "4           0  10022     7  1427627340\n",
      "5           0  10023     7  1428738480\n",
      "6           0  10024     4  1429359420\n",
      "...       ...    ...   ...         ...\n",
      "140667  51985  10983     1  1270835220\n",
      "140672  51990  10985     2  1525411980\n",
      "140676  51994  10988     5  1356811920\n",
      "140701  52019  10998     3  1472397240\n",
      "140707  52025  10998     7  1498546920\n",
      "\n",
      "[20101 rows x 4 columns]\n"
     ]
    }
   ],
   "source": [
    "# IQR 계산\n",
    "Q1 = ratings['rate'].quantile(0.25)\n",
    "Q3 = ratings['rate'].quantile(0.75)\n",
    "IQR = Q3 - Q1\n",
    "\n",
    "# 이상치 기준\n",
    "lower_bound = Q1 - 1.5 * IQR\n",
    "upper_bound = Q3 + 1.5 * IQR\n",
    "\n",
    "print(f'lower_bound is {lower_bound}')\n",
    "print(f'upper_bound is {upper_bound}')\n",
    "\n",
    "# 이상치 탐지\n",
    "outliers = ratings[(ratings['rate'] < lower_bound) | (ratings['rate'] > upper_bound)]\n",
    "print(\"Outliers:\\n\", outliers)"
   ]
  },
  {
   "cell_type": "code",
   "execution_count": 7,
   "metadata": {},
   "outputs": [
    {
     "name": "stdout",
     "output_type": "stream",
     "text": [
      "Outliers using Z-Score:\n",
      "          user  movie  rate        time  rate_zscore\n",
      "207         4  10111     1  1478864100    -3.776405\n",
      "208         4  10112     1  1479086940    -3.776405\n",
      "219         4  10153     2  1494030540    -3.301580\n",
      "225         4  10232     2  1552023420    -3.301580\n",
      "326        13  10016     1  1255108920    -3.776405\n",
      "...       ...    ...   ...         ...          ...\n",
      "140545  51863  10979     1  1568964540    -3.776405\n",
      "140605  51923  10980     1  1363948320    -3.776405\n",
      "140661  51979  10983     1  1267666680    -3.776405\n",
      "140667  51985  10983     1  1270835220    -3.776405\n",
      "140672  51990  10985     2  1525411980    -3.301580\n",
      "\n",
      "[5970 rows x 5 columns]\n"
     ]
    }
   ],
   "source": [
    "from scipy.stats import zscore\n",
    "\n",
    "# Z-Score 계산\n",
    "ratings['rate_zscore'] = zscore(ratings['rate'])\n",
    "\n",
    "# 이상치 탐지\n",
    "outliers = ratings[(ratings['rate_zscore'] > 3) | (ratings['rate_zscore'] < -3)]\n",
    "print(\"Outliers using Z-Score:\\n\", outliers)\n"
   ]
  },
  {
   "cell_type": "code",
   "execution_count": 8,
   "metadata": {},
   "outputs": [
    {
     "data": {
      "image/png": "[encoded data removed]",
      "text/plain": [
       "<Figure size 1000x800 with 4 Axes>"
      ]
     },
     "metadata": {},
     "output_type": "display_data"
    }
   ],
   "source": [
    "import matplotlib.pyplot as plt\n",
    "\n",
    "# time 데이터 변환\n",
    "ratings['time_scaled'] = ratings['time'] / 1e9\n",
    "\n",
    "# Subplots 생성\n",
    "fig, axs = plt.subplots(2, 2, figsize=(10, 8))\n",
    "\n",
    "# User 히스토그램\n",
    "axs[0, 0].hist(ratings['user'], bins=10 )\n",
    "axs[0, 0].set_title(\"User\")\n",
    "axs[0, 0].set_xticks(range(0, 40001, 20000))\n",
    "axs[0, 0].set_yticks(range(0, 40001, 20000))\n",
    "axs[0, 0].grid(axis='x', color='gray', linestyle='-', alpha=0.7)\n",
    "axs[0, 0].grid(axis='y', color='gray', linestyle='-', alpha=0.7)\n",
    "\n",
    "\n",
    "# Movie 히스토그램\n",
    "axs[0, 1].hist(ratings['movie'], bins=10 )\n",
    "axs[0, 1].set_title(\"Movie\")\n",
    "axs[0, 1].set_xticks(range(10000, 11001, 250))\n",
    "axs[0, 1].set_yticks(range(0, 40001, 20000))\n",
    "axs[0, 1].grid(axis='x', color='gray', linestyle='-', alpha=0.7)\n",
    "axs[0, 1].grid(axis='y', color='gray', linestyle='-', alpha=0.7)\n",
    "\n",
    "# Rate 히스토그램\n",
    "axs[1, 0].hist(ratings['rate'], bins=10 )\n",
    "axs[1, 0].set_title(\"Rate\")\n",
    "axs[1, 0].set_xticks(range(2, 11, 2))\n",
    "axs[1, 0].set_yticks(range(0, 80001, 20000))\n",
    "axs[1, 0].grid(axis='x', color='gray', linestyle='-', alpha=0.7)\n",
    "axs[1, 0].grid(axis='y', color='gray', linestyle='-', alpha=0.7)\n",
    "\n",
    "# Time 히스토그램\n",
    "axs[1, 1].hist(ratings['time_scaled'], bins=10 )\n",
    "axs[1, 1].set_title(\"Time\")\n",
    "axs[1, 1].set_xticks([1.2, 1.4, 1.6])\n",
    "axs[1, 1].set_yticks(range(0, 20001, 5000))\n",
    "axs[1, 1].grid(axis='x', color='gray', linestyle='-', alpha=0.7)\n",
    "axs[1, 1].grid(axis='y', color='gray', linestyle='-', alpha=0.7)\n",
    "\n",
    "# 레이아웃 정리\n",
    "plt.tight_layout()\n",
    "plt.show()"
   ]
  },
  {
   "cell_type": "code",
   "execution_count": 9,
   "metadata": {},
   "outputs": [
    {
     "name": "stdout",
     "output_type": "stream",
     "text": [
      "movie                  10200\n",
      "rating_count            7265\n",
      "title           터미네이터 2:오리지널\n",
      "Name: 0, dtype: object\n"
     ]
    }
   ],
   "source": [
    "# 가장 많이 평가된 영화\n",
    "# 영화별 평가 수 계산\n",
    "most_rated_movies = ratings.groupby('movie')['rate'].count().reset_index()\n",
    "most_rated_movies.columns = ['movie', 'rating_count']\n",
    "\n",
    "# 평가 수 기준으로 정렬\n",
    "most_rated_movies = most_rated_movies.sort_values(by='rating_count', ascending=False)\n",
    "\n",
    "# 영화 제목 추가 (movies 데이터와 병합)\n",
    "most_rated_movies_with_titles = pd.merge(most_rated_movies, movies[['movie', 'title']], on='movie', how='left')\n",
    "\n",
    "# 가장 많이 평가된 영화 하나 출력\n",
    "most_rated_movie = most_rated_movies_with_titles.iloc[0]\n",
    "print(most_rated_movie)\n"
   ]
  },
  {
   "cell_type": "code",
   "execution_count": 10,
   "metadata": {},
   "outputs": [
    {
     "name": "stdout",
     "output_type": "stream",
     "text": [
      "movie             10974\n",
      "average_rating     10.0\n",
      "title               쥬리아\n",
      "Name: 0, dtype: object\n"
     ]
    }
   ],
   "source": [
    "# 가장 높은 평균 평점을 받은 영화\n",
    "highest_rated_movies = ratings.groupby('movie')['rate'].mean().reset_index()\n",
    "highest_rated_movies.columns = ['movie', 'average_rating']\n",
    "\n",
    "highest_rated_movies = highest_rated_movies.sort_values(by='average_rating', ascending=False)\n",
    "\n",
    "# 영화 제목 추가\n",
    "highest_rated_movies_with_titles = pd.merge(highest_rated_movies, movies[['movie', 'title']], on='movie', how='left')\n",
    "highest_rated_movies = highest_rated_movies_with_titles.iloc[0]\n",
    "print(highest_rated_movies)"
   ]
  },
  {
   "cell_type": "code",
   "execution_count": null,
   "metadata": {},
   "outputs": [],
   "source": []
  }
 ],
 "metadata": {
  "kernelspec": {
   "display_name": ".venv",
   "language": "python",
   "name": "python3"
  },
  "language_info": {
   "codemirror_mode": {
    "name": "ipython",
    "version": 3
   },
   "file_extension": ".py",
   "mimetype": "text/x-python",
   "name": "python",
   "nbconvert_exporter": "python",
   "pygments_lexer": "ipython3",
   "version": "3.11.6"
  }
 },
 "nbformat": 4,
 "nbformat_minor": 2
}
