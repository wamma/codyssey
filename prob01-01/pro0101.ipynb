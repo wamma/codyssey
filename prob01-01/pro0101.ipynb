{
  "nbformat": 4,
  "nbformat_minor": 0,
  "metadata": {
    "colab": {
      "provenance": [],
      "gpuType": "T4",
      "include_colab_link": true
    },
    "kernelspec": {
      "name": "python3",
      "display_name": "Python 3"
    },
    "language_info": {
      "name": "python"
    }
  },
  "cells": [
    {
      "cell_type": "markdown",
      "metadata": {
        "id": "view-in-github",
        "colab_type": "text"
      },
      "source": [
        "<a href=\"https://colab.research.google.com/github/wamma/codyssey/blob/main/prob01-01/pro0101.ipynb\" target=\"_parent\"><img src=\"https://colab.research.google.com/assets/colab-badge.svg\" alt=\"Open In Colab\"/></a>"
      ]
    },
    {
      "cell_type": "code",
      "source": [
        "import pandas as pd"
      ],
      "metadata": {
        "id": "K3ahBtp8Lll4"
      },
      "execution_count": 63,
      "outputs": []
    },
    {
      "cell_type": "code",
      "source": [
        "df = pd.read_csv('prob-0101.csv')"
      ],
      "metadata": {
        "id": "EWEMYmpxLWfU"
      },
      "execution_count": 64,
      "outputs": []
    },
    {
      "cell_type": "code",
      "source": [
        "df.info()"
      ],
      "metadata": {
        "colab": {
          "base_uri": "https://localhost:8080/"
        },
        "id": "z0Ra5b3kdH1X",
        "outputId": "316071ae-4578-42af-93b4-147ebda96652"
      },
      "execution_count": 65,
      "outputs": [
        {
          "output_type": "stream",
          "name": "stdout",
          "text": [
            "<class 'pandas.core.frame.DataFrame'>\n",
            "RangeIndex: 59 entries, 0 to 58\n",
            "Data columns (total 6 columns):\n",
            " #   Column  Non-Null Count  Dtype \n",
            "---  ------  --------------  ----- \n",
            " 0   개봉일     59 non-null     object\n",
            " 1   제목      59 non-null     object\n",
            " 2   배급사     59 non-null     object\n",
            " 3   감독      59 non-null     object\n",
            " 4   출연진     59 non-null     object\n",
            " 5   장르      59 non-null     object\n",
            "dtypes: object(6)\n",
            "memory usage: 2.9+ KB\n"
          ]
        }
      ]
    },
    {
      "cell_type": "markdown",
      "source": [
        "### 영화 개수, 배급사 수, 감독 수, 출연진 수, 장르 수 파악하기."
      ],
      "metadata": {
        "id": "02D0RBjbddnK"
      }
    },
    {
      "cell_type": "code",
      "source": [
        "df.describe(include='all')"
      ],
      "metadata": {
        "colab": {
          "base_uri": "https://localhost:8080/",
          "height": 175
        },
        "id": "OmwCWJUhdOt1",
        "outputId": "e535240b-1c7f-4f70-e61d-f62b5c1925ee"
      },
      "execution_count": 66,
      "outputs": [
        {
          "output_type": "execute_result",
          "data": {
            "text/plain": [
              "               개봉일   제목       배급사   감독                     출연진   장르\n",
              "count           59   59        59   59                      59   59\n",
              "unique          32   59        52   58                      59   20\n",
              "top     2023-04-12  스위치  (주)인디스토리  최윤호  권상우, 오정세, 이민정, 박소이, 김준  드라마\n",
              "freq             6    1         2    2                       1   27"
            ],
            "text/html": [
              "\n",
              "  <div id=\"df-d2ab8970-f9b2-4315-b82a-eb861edba26c\" class=\"colab-df-container\">\n",
              "    <div>\n",
              "<style scoped>\n",
              "    .dataframe tbody tr th:only-of-type {\n",
              "        vertical-align: middle;\n",
              "    }\n",
              "\n",
              "    .dataframe tbody tr th {\n",
              "        vertical-align: top;\n",
              "    }\n",
              "\n",
              "    .dataframe thead th {\n",
              "        text-align: right;\n",
              "    }\n",
              "</style>\n",
              "<table border=\"1\" class=\"dataframe\">\n",
              "  <thead>\n",
              "    <tr style=\"text-align: right;\">\n",
              "      <th></th>\n",
              "      <th>개봉일</th>\n",
              "      <th>제목</th>\n",
              "      <th>배급사</th>\n",
              "      <th>감독</th>\n",
              "      <th>출연진</th>\n",
              "      <th>장르</th>\n",
              "    </tr>\n",
              "  </thead>\n",
              "  <tbody>\n",
              "    <tr>\n",
              "      <th>count</th>\n",
              "      <td>59</td>\n",
              "      <td>59</td>\n",
              "      <td>59</td>\n",
              "      <td>59</td>\n",
              "      <td>59</td>\n",
              "      <td>59</td>\n",
              "    </tr>\n",
              "    <tr>\n",
              "      <th>unique</th>\n",
              "      <td>32</td>\n",
              "      <td>59</td>\n",
              "      <td>52</td>\n",
              "      <td>58</td>\n",
              "      <td>59</td>\n",
              "      <td>20</td>\n",
              "    </tr>\n",
              "    <tr>\n",
              "      <th>top</th>\n",
              "      <td>2023-04-12</td>\n",
              "      <td>스위치</td>\n",
              "      <td>(주)인디스토리</td>\n",
              "      <td>최윤호</td>\n",
              "      <td>권상우, 오정세, 이민정, 박소이, 김준</td>\n",
              "      <td>드라마</td>\n",
              "    </tr>\n",
              "    <tr>\n",
              "      <th>freq</th>\n",
              "      <td>6</td>\n",
              "      <td>1</td>\n",
              "      <td>2</td>\n",
              "      <td>2</td>\n",
              "      <td>1</td>\n",
              "      <td>27</td>\n",
              "    </tr>\n",
              "  </tbody>\n",
              "</table>\n",
              "</div>\n",
              "    <div class=\"colab-df-buttons\">\n",
              "\n",
              "  <div class=\"colab-df-container\">\n",
              "    <button class=\"colab-df-convert\" onclick=\"convertToInteractive('df-d2ab8970-f9b2-4315-b82a-eb861edba26c')\"\n",
              "            title=\"Convert this dataframe to an interactive table.\"\n",
              "            style=\"display:none;\">\n",
              "\n",
              "  <svg xmlns=\"http://www.w3.org/2000/svg\" height=\"24px\" viewBox=\"0 -960 960 960\">\n",
              "    <path d=\"M120-120v-720h720v720H120Zm60-500h600v-160H180v160Zm220 220h160v-160H400v160Zm0 220h160v-160H400v160ZM180-400h160v-160H180v160Zm440 0h160v-160H620v160ZM180-180h160v-160H180v160Zm440 0h160v-160H620v160Z\"/>\n",
              "  </svg>\n",
              "    </button>\n",
              "\n",
              "  <style>\n",
              "    .colab-df-container {\n",
              "      display:flex;\n",
              "      gap: 12px;\n",
              "    }\n",
              "\n",
              "    .colab-df-convert {\n",
              "      background-color: #E8F0FE;\n",
              "      border: none;\n",
              "      border-radius: 50%;\n",
              "      cursor: pointer;\n",
              "      display: none;\n",
              "      fill: #1967D2;\n",
              "      height: 32px;\n",
              "      padding: 0 0 0 0;\n",
              "      width: 32px;\n",
              "    }\n",
              "\n",
              "    .colab-df-convert:hover {\n",
              "      background-color: #E2EBFA;\n",
              "      box-shadow: 0px 1px 2px rgba(60, 64, 67, 0.3), 0px 1px 3px 1px rgba(60, 64, 67, 0.15);\n",
              "      fill: #174EA6;\n",
              "    }\n",
              "\n",
              "    .colab-df-buttons div {\n",
              "      margin-bottom: 4px;\n",
              "    }\n",
              "\n",
              "    [theme=dark] .colab-df-convert {\n",
              "      background-color: #3B4455;\n",
              "      fill: #D2E3FC;\n",
              "    }\n",
              "\n",
              "    [theme=dark] .colab-df-convert:hover {\n",
              "      background-color: #434B5C;\n",
              "      box-shadow: 0px 1px 3px 1px rgba(0, 0, 0, 0.15);\n",
              "      filter: drop-shadow(0px 1px 2px rgba(0, 0, 0, 0.3));\n",
              "      fill: #FFFFFF;\n",
              "    }\n",
              "  </style>\n",
              "\n",
              "    <script>\n",
              "      const buttonEl =\n",
              "        document.querySelector('#df-d2ab8970-f9b2-4315-b82a-eb861edba26c button.colab-df-convert');\n",
              "      buttonEl.style.display =\n",
              "        google.colab.kernel.accessAllowed ? 'block' : 'none';\n",
              "\n",
              "      async function convertToInteractive(key) {\n",
              "        const element = document.querySelector('#df-d2ab8970-f9b2-4315-b82a-eb861edba26c');\n",
              "        const dataTable =\n",
              "          await google.colab.kernel.invokeFunction('convertToInteractive',\n",
              "                                                    [key], {});\n",
              "        if (!dataTable) return;\n",
              "\n",
              "        const docLinkHtml = 'Like what you see? Visit the ' +\n",
              "          '<a target=\"_blank\" href=https://colab.research.google.com/notebooks/data_table.ipynb>data table notebook</a>'\n",
              "          + ' to learn more about interactive tables.';\n",
              "        element.innerHTML = '';\n",
              "        dataTable['output_type'] = 'display_data';\n",
              "        await google.colab.output.renderOutput(dataTable, element);\n",
              "        const docLink = document.createElement('div');\n",
              "        docLink.innerHTML = docLinkHtml;\n",
              "        element.appendChild(docLink);\n",
              "      }\n",
              "    </script>\n",
              "  </div>\n",
              "\n",
              "\n",
              "<div id=\"df-03fdf47e-0fac-4f53-a5d4-a4b932c0aa29\">\n",
              "  <button class=\"colab-df-quickchart\" onclick=\"quickchart('df-03fdf47e-0fac-4f53-a5d4-a4b932c0aa29')\"\n",
              "            title=\"Suggest charts\"\n",
              "            style=\"display:none;\">\n",
              "\n",
              "<svg xmlns=\"http://www.w3.org/2000/svg\" height=\"24px\"viewBox=\"0 0 24 24\"\n",
              "     width=\"24px\">\n",
              "    <g>\n",
              "        <path d=\"M19 3H5c-1.1 0-2 .9-2 2v14c0 1.1.9 2 2 2h14c1.1 0 2-.9 2-2V5c0-1.1-.9-2-2-2zM9 17H7v-7h2v7zm4 0h-2V7h2v10zm4 0h-2v-4h2v4z\"/>\n",
              "    </g>\n",
              "</svg>\n",
              "  </button>\n",
              "\n",
              "<style>\n",
              "  .colab-df-quickchart {\n",
              "      --bg-color: #E8F0FE;\n",
              "      --fill-color: #1967D2;\n",
              "      --hover-bg-color: #E2EBFA;\n",
              "      --hover-fill-color: #174EA6;\n",
              "      --disabled-fill-color: #AAA;\n",
              "      --disabled-bg-color: #DDD;\n",
              "  }\n",
              "\n",
              "  [theme=dark] .colab-df-quickchart {\n",
              "      --bg-color: #3B4455;\n",
              "      --fill-color: #D2E3FC;\n",
              "      --hover-bg-color: #434B5C;\n",
              "      --hover-fill-color: #FFFFFF;\n",
              "      --disabled-bg-color: #3B4455;\n",
              "      --disabled-fill-color: #666;\n",
              "  }\n",
              "\n",
              "  .colab-df-quickchart {\n",
              "    background-color: var(--bg-color);\n",
              "    border: none;\n",
              "    border-radius: 50%;\n",
              "    cursor: pointer;\n",
              "    display: none;\n",
              "    fill: var(--fill-color);\n",
              "    height: 32px;\n",
              "    padding: 0;\n",
              "    width: 32px;\n",
              "  }\n",
              "\n",
              "  .colab-df-quickchart:hover {\n",
              "    background-color: var(--hover-bg-color);\n",
              "    box-shadow: 0 1px 2px rgba(60, 64, 67, 0.3), 0 1px 3px 1px rgba(60, 64, 67, 0.15);\n",
              "    fill: var(--button-hover-fill-color);\n",
              "  }\n",
              "\n",
              "  .colab-df-quickchart-complete:disabled,\n",
              "  .colab-df-quickchart-complete:disabled:hover {\n",
              "    background-color: var(--disabled-bg-color);\n",
              "    fill: var(--disabled-fill-color);\n",
              "    box-shadow: none;\n",
              "  }\n",
              "\n",
              "  .colab-df-spinner {\n",
              "    border: 2px solid var(--fill-color);\n",
              "    border-color: transparent;\n",
              "    border-bottom-color: var(--fill-color);\n",
              "    animation:\n",
              "      spin 1s steps(1) infinite;\n",
              "  }\n",
              "\n",
              "  @keyframes spin {\n",
              "    0% {\n",
              "      border-color: transparent;\n",
              "      border-bottom-color: var(--fill-color);\n",
              "      border-left-color: var(--fill-color);\n",
              "    }\n",
              "    20% {\n",
              "      border-color: transparent;\n",
              "      border-left-color: var(--fill-color);\n",
              "      border-top-color: var(--fill-color);\n",
              "    }\n",
              "    30% {\n",
              "      border-color: transparent;\n",
              "      border-left-color: var(--fill-color);\n",
              "      border-top-color: var(--fill-color);\n",
              "      border-right-color: var(--fill-color);\n",
              "    }\n",
              "    40% {\n",
              "      border-color: transparent;\n",
              "      border-right-color: var(--fill-color);\n",
              "      border-top-color: var(--fill-color);\n",
              "    }\n",
              "    60% {\n",
              "      border-color: transparent;\n",
              "      border-right-color: var(--fill-color);\n",
              "    }\n",
              "    80% {\n",
              "      border-color: transparent;\n",
              "      border-right-color: var(--fill-color);\n",
              "      border-bottom-color: var(--fill-color);\n",
              "    }\n",
              "    90% {\n",
              "      border-color: transparent;\n",
              "      border-bottom-color: var(--fill-color);\n",
              "    }\n",
              "  }\n",
              "</style>\n",
              "\n",
              "  <script>\n",
              "    async function quickchart(key) {\n",
              "      const quickchartButtonEl =\n",
              "        document.querySelector('#' + key + ' button');\n",
              "      quickchartButtonEl.disabled = true;  // To prevent multiple clicks.\n",
              "      quickchartButtonEl.classList.add('colab-df-spinner');\n",
              "      try {\n",
              "        const charts = await google.colab.kernel.invokeFunction(\n",
              "            'suggestCharts', [key], {});\n",
              "      } catch (error) {\n",
              "        console.error('Error during call to suggestCharts:', error);\n",
              "      }\n",
              "      quickchartButtonEl.classList.remove('colab-df-spinner');\n",
              "      quickchartButtonEl.classList.add('colab-df-quickchart-complete');\n",
              "    }\n",
              "    (() => {\n",
              "      let quickchartButtonEl =\n",
              "        document.querySelector('#df-03fdf47e-0fac-4f53-a5d4-a4b932c0aa29 button');\n",
              "      quickchartButtonEl.style.display =\n",
              "        google.colab.kernel.accessAllowed ? 'block' : 'none';\n",
              "    })();\n",
              "  </script>\n",
              "</div>\n",
              "\n",
              "    </div>\n",
              "  </div>\n"
            ],
            "application/vnd.google.colaboratory.intrinsic+json": {
              "type": "dataframe",
              "summary": "{\n  \"name\": \"df\",\n  \"rows\": 4,\n  \"fields\": [\n    {\n      \"column\": \"\\uac1c\\ubd09\\uc77c\",\n      \"properties\": {\n        \"dtype\": \"date\",\n        \"min\": \"1970-01-01 00:00:00.000000006\",\n        \"max\": \"2023-04-12 00:00:00\",\n        \"num_unique_values\": 4,\n        \"samples\": [\n          32,\n          \"6\",\n          \"59\"\n        ],\n        \"semantic_type\": \"\",\n        \"description\": \"\"\n      }\n    },\n    {\n      \"column\": \"\\uc81c\\ubaa9\",\n      \"properties\": {\n        \"dtype\": \"string\",\n        \"num_unique_values\": 3,\n        \"samples\": [\n          \"59\",\n          \"\\uc2a4\\uc704\\uce58\",\n          \"1\"\n        ],\n        \"semantic_type\": \"\",\n        \"description\": \"\"\n      }\n    },\n    {\n      \"column\": \"\\ubc30\\uae09\\uc0ac\",\n      \"properties\": {\n        \"dtype\": \"string\",\n        \"num_unique_values\": 4,\n        \"samples\": [\n          52,\n          \"2\",\n          \"59\"\n        ],\n        \"semantic_type\": \"\",\n        \"description\": \"\"\n      }\n    },\n    {\n      \"column\": \"\\uac10\\ub3c5\",\n      \"properties\": {\n        \"dtype\": \"string\",\n        \"num_unique_values\": 4,\n        \"samples\": [\n          58,\n          \"2\",\n          \"59\"\n        ],\n        \"semantic_type\": \"\",\n        \"description\": \"\"\n      }\n    },\n    {\n      \"column\": \"\\ucd9c\\uc5f0\\uc9c4\",\n      \"properties\": {\n        \"dtype\": \"string\",\n        \"num_unique_values\": 3,\n        \"samples\": [\n          \"59\",\n          \"\\uad8c\\uc0c1\\uc6b0, \\uc624\\uc815\\uc138, \\uc774\\ubbfc\\uc815, \\ubc15\\uc18c\\uc774, \\uae40\\uc900\",\n          \"1\"\n        ],\n        \"semantic_type\": \"\",\n        \"description\": \"\"\n      }\n    },\n    {\n      \"column\": \"\\uc7a5\\ub974\",\n      \"properties\": {\n        \"dtype\": \"string\",\n        \"num_unique_values\": 4,\n        \"samples\": [\n          20,\n          \"27\",\n          \"59\"\n        ],\n        \"semantic_type\": \"\",\n        \"description\": \"\"\n      }\n    }\n  ]\n}"
            }
          },
          "metadata": {},
          "execution_count": 66
        }
      ]
    },
    {
      "cell_type": "code",
      "source": [
        "print(df.to_string())"
      ],
      "metadata": {
        "colab": {
          "base_uri": "https://localhost:8080/"
        },
        "id": "VSsnGRQadUVB",
        "outputId": "c5548263-c07d-4a36-bb22-03017e1bdbf7"
      },
      "execution_count": 67,
      "outputs": [
        {
          "output_type": "stream",
          "name": "stdout",
          "text": [
            "           개봉일                        제목                  배급사                       감독                                                                                                     출연진               장르\n",
            "0   2023-01-04                       스위치  롯데컬처웍스, (주)롯데엔터테인먼트                      마대윤                                                                                  권상우, 오정세, 이민정, 박소이, 김준               기타\n",
            "1   2023-01-05                      강남좀비            (주)와이드릴리즈                      이수성                                                                                                 지일주, 지연              드라마\n",
            "2   2023-01-12                별 볼일 없는 인생             (주)이놀미디어                      서동현                                                                                                     정가은           멜로/로맨스\n",
            "3   2023-01-12                  10일간의 애인               (주)그노스                      이영용                                                                                                     송민경           멜로/로맨스\n",
            "4   2023-01-18                        교섭           플렉스엠엔터테인먼트                      임순례                                                                                            황정민, 현빈, 강기영              드라마\n",
            "5   2023-01-18                        유령            (주)CJ ENM                      이해영                                                                            설경구, 이하늬, 박소감, 박해수, 서현우, 김동희               액션\n",
            "6   2023-01-20                        정이                 넷플릭스                      연상호                                                                                           강수연, 김현주, 류경수               SF\n",
            "7   2023-01-25            열여덟, 어른이 되는 나이                필름 다빈                       주영                                                                                      임선우, 김명찬, 이장유, 박현숙              드라마\n",
            "8   2023-02-08                     다음 소희            트윈플러스파트너스                      정주리                                                                                      김시은, 배두나, 박우영, 정수하              드라마\n",
            "9   2023-02-08          어쩌면 우린 헤어졌는지 모른다        (주)영화특별시 에스엠씨                      형슬우                                                                                      이동휘, 정은채, 강길우, 정다은              드라마\n",
            "10  2023-02-08           우리 사랑이 향기로 남을 때   (주)콘텐츠존, (주)다자인소프트                      임성용                                                                            윤시윤, 설인아, 노상현, 문지인, 이규복, 김영웅       멜로·로맨스·코미디\n",
            "11  2023-02-17           스마트폰을 떨어뜨렸을 뿐인데                 넷플릭스                      김태준                                                                                           천우희, 임시완, 김희원              스릴러\n",
            "12  2023-02-22                       카운트            (주)CJ ENM                      권혁재                                                                            진선규, 성유빈, 오나라, 고창석, 장동주, 고규필              드라마\n",
            "13  2023-02-22                        살수         (주)제이앤씨미디어그룹                      곽정덕                                                                                 신현준, 이문식, 김민경, 홍은기, 최성원               액션\n",
            "14  2023-02-23                     컨버세이션                필름 다빈                      김덕중                                                                             조은지, 박종환, 곽민규, 소이, 송은지, 곽진무              드라마\n",
            "15  2023-03-01                       멍뭉이        (주)와이웍스엔터테인먼트                      김주환                                                                                                유연석, 차태현              드라마\n",
            "16  2023-03-01                       대외비           플러스엠엔터테인먼트                      이원태                                                                                           조진웅, 이성민, 김무열          범죄, 드라마\n",
            "17  2023-03-08                   그대 어이가리            (주)영화사 순수                      이창열                                                                                           선동혁, 정아미, 박종진              드라마\n",
            "18  2023-03-15                     소울메이트       (주)넥스트엔터테인먼트월드                      민용근                                                                                           김다미, 전소니, 변우석              드라마\n",
            "19  2023-03-23                    낭만 캠퍼스              (주)콘텐츠윙                      박동기                                                                       신민재, 송보은, 이경욱, 설유진, 현진영, 박동기, 김세환              드라마\n",
            "20  2023-03-29                   여섯 개의 밤             (주)인디스토리                      최창환                                                                            강길우, 강진아, 김시은, 변중희, 이한주, 정수지  드라마, 멜로·로맨스, 가족\n",
            "21  2023-03-29                  여덟 번째 감각             (주)플레이그램                      배인우                                                                       오준택, 임지섭, 박해인, 장영준, 방진원, 서지안, 채수아           멜로·로맨스\n",
            "22  2023-03-29                       웅남이            (주)CJ CGV                      박성광                                                             박성웅, 이이경, 염혜란, 최민수, 오달수, 윤제문, 백지혜, 서동원, 한다솔          코미디, 액션\n",
            "23  2023-03-29                 찬란한 나의 복수        영화배급협동조합 씨네소파                      임성운                                                                                           허준석, 이영석, 남보라              드라마\n",
            "24  2023-03-29                       흐르다            M&M 인터내셔널                      김현정                                                                                                 이설, 박지수              드라마\n",
            "25  2023-04-05                      리바운드           (주)바른손이앤아이                      장항준                                                                                                안재홍, 양한열              드라마\n",
            "26  2023-04-05                      장기자랑            (주)영화사 진진                      이소현                                                                       김명임, 김도현, 김순덕, 박유신, 이미경, 최지연, 박혜영            다큐멘터리\n",
            "27  2023-04-05                  오늘 출가합니다            (주)트리플픽쳐스                      김성환                                                                                                양홍주, 나현준              드라마\n",
            "28  2023-04-05                    불멸의 여자           드림팩트엔터테인먼트                      최종태                                                                                            이음, 윤가현, 인내상              드라마\n",
            "29  2023-04-06                    솔라 플라워               ㈜스토리제이                      한경탁                                                              오원빈, 서지희, 심현탁, 박정철, 김수하, 김민, 김봉주, 조수빈, 정병훈       멜로,로맨스,드라마\n",
            "30  2023-04-12                   사랑의 고고학             (주)엣나인필름                      이완민                                                                                            옥자연, 기윤, 하민호              드라마\n",
            "31  2023-04-12                    보이지 않아           아웃런브라더스픽쳐스                      최세환                                                                            박호산, 신애리, 백수련, 이노아, 정혜인, 이용녀              드라마\n",
            "32  2023-04-12                        제비              (주)시네마달                     이송희일                                                                        윤박, 우지현, 박미현, 장희령, 이대연, 박소진, 유인수              드라마\n",
            "33  2023-04-12                 나는 여기에 있다            와이드릴리즈(주)                      신근호                                                                      조한선, 정지운, 정태우, 노수산나, 박순천, 정인기, 이지원        범죄·액션·스럴리\n",
            "34  2023-04-12                      물안에서       영화제작전원사, 콘텐츠판다                      홍상수                                                                                 신석호, 하성국, 김승윤, 김민희, 김소령              드라마\n",
            "35  2023-04-12      밥만 잘 사주는 이상한 이사님 극장판               CJ CGV                      양경희                                                                                                박정우, 박영훈           드라마,멜로\n",
            "36  2023-04-14                    킬링 로맨스   롯데컬쳐웍스 (주)롯데엔터테인먼트                      이원석                                                                                       이하늬, 이선균, 공명, 김상욱              코미디\n",
            "37  2023-04-19                    낭만적 공장             (주)영화사오윈                      조은성                                                                                      심희섭, 전혜진, 한승도, 박수영           멜로·로맨스\n",
            "38  2023-04-19                     튤립 모양               삼거리픽쳐스                      양윤모                                                                            유다인, 김다현, 문희경, 김정균, 진혜원, 이지용              드라마\n",
            "39  2023-04-26                        드림        (주)플렉스엠엔터테인먼트                      이병헌                                                        박서준, 아이유, 김종수, 고창석, 정승길, 이현우, 양현민, 홍완표, 허준석, 이하늬              드라마\n",
            "40  2023-04-27                      2퍼센트               시네마 뉴원                      문신구                                                                                                허지나, 남명렬              드라마\n",
            "41  2023-05-10                        롱디         (주)넥스트엔터테인먼트                      임재완                                                                                                장동윤, 박유나       멜로·로맨스·코미디\n",
            "42  2023-05-10                      바람개비             (주)디스테이션                      이상훈                                                                                 차선우, 유지애, 김소희, 이원석, 서지후               액션\n",
            "43  2023-05-10                      스트리머          TCO(주)더콘텐츠온                      장형모                                                                                 이푸름, 권민혁, 김준형, 심소영, 김모범          공포·미스터리\n",
            "44  2023-05-17                말이야 바른 말이지               씨에스픽쳐스  박동훈, 최하나, 송현주, 한인미, 윤성호                                                        김경일, 양현민, 김소형, 김우겸, 정승길, 조윤서, 신사랑, 오경화, 서벽준, 정유연              코미디\n",
            "45  2023-05-18  남자는 처음을 원하고 여자는 마지막을 원한다             (주)스토리제이                      이현준                                                                                           윤성모, 정미미, 장원혁           멜로·로맨스\n",
            "46  2023-05-24                      스프린터             스튜디오 에이드                      최승연                                                                       박성일, 공민정, 임지호, 전신환, 송덕호, 최준혁, 한태경               기타\n",
            "47  2023-05-31                     드림팰리스             (주)인디스토리                      가성문                                                                                      김선영, 이윤지, 최민영, 김용준              드라마\n",
            "48  2023-05-31                    범죄도시 3        (주)에이비오엔터테인먼트                      이상용  마동석, 이준혁, 아오키 무네타카, 이범수, 김민재, 이지훈, 김도건, 최동구, 이세호, 고규필, 전석호, 최우준, 한규원, 이태규, 홍준영, 안세호, 강윤, 배누리, 심영은, 김기호           범죄, 액션\n",
            "49  2023-06-07                   박하경 여행기             CJ엔터테인먼트                      이종필                                                                                                     이나영              드라마\n",
            "50  2023-06-07                 익스트림 페스티벌         트윈플러스파트너스(주)                      김홍기                                                                                           김재화, 조민재, 박강섭              코미디\n",
            "51  2023-06-08                     안나푸르나                시네마뉴원                      황승제                                                                                 김강현, 차선우, 한수연, 신연서, 서은채              드라마\n",
            "52  2023-06-08                      육지것들              (주)씨엠닉스                       이황                                                                                                      소이              코미디\n",
            "53  2023-06-14                       실버맨             (주)이놀미디어                      최윤호                                                                                 김정팔, 박상욱, 신의현, 이경준, 유재인              드라마\n",
            "54  2023-06-21                       귀공자       (주)넥스트엔터테인먼트월드                      박훈정                                                                                      김선호, 강태주, 김강우, 고아라               액션\n",
            "55  2023-06-21                         손             (주)이눌미디어                      최윤호                                                                                  이재원, 박상욱, 정서하, 허웅, 안수호           공포,코미디\n",
            "56  2023-06-21                       인드림            (주)원더스튜디오                      신재호                                                                                 서효림, 오지호, 김승수, 이설구, 노지유               액션\n",
            "57  2023-06-28             아수라장: 범털들의 전쟁         (주)제이앤씨미디어그룹                      윤여창                                                                                      정영주, 안미나, 배진아, 한가은               범죄\n",
            "58  2023-06-28                        라방               트리플픽쳐스                      최주연                                                                                           박성웅, 박선호, 김희정              스릴러\n"
          ]
        }
      ]
    },
    {
      "cell_type": "code",
      "source": [
        "directors_counts = df['감독'].value_counts()\n",
        "directors_counts"
      ],
      "metadata": {
        "colab": {
          "base_uri": "https://localhost:8080/",
          "height": 1000
        },
        "id": "-5rIP_gzeBoO",
        "outputId": "756d758a-4121-4498-8116-aa30aef25f1b"
      },
      "execution_count": 68,
      "outputs": [
        {
          "output_type": "execute_result",
          "data": {
            "text/plain": [
              "감독\n",
              "최윤호                        2\n",
              "마대윤                        1\n",
              "장형모                        1\n",
              "최세환                        1\n",
              "이송희일                       1\n",
              "신근호                        1\n",
              "홍상수                        1\n",
              "양경희                        1\n",
              "이원석                        1\n",
              "조은성                        1\n",
              "양윤모                        1\n",
              "이병헌                        1\n",
              "문신구                        1\n",
              "임재완                        1\n",
              "이상훈                        1\n",
              "박동훈, 최하나, 송현주, 한인미, 윤성호    1\n",
              "이수성                        1\n",
              "이현준                        1\n",
              "최승연                        1\n",
              "가성문                        1\n",
              "이상용                        1\n",
              "이종필                        1\n",
              "김홍기                        1\n",
              "황승제                        1\n",
              "이황                         1\n",
              "박훈정                        1\n",
              "신재호                        1\n",
              "윤여창                        1\n",
              "이완민                        1\n",
              "한경탁                        1\n",
              "최종태                        1\n",
              "김성환                        1\n",
              "서동현                        1\n",
              "이영용                        1\n",
              "임순례                        1\n",
              "이해영                        1\n",
              "연상호                        1\n",
              "주영                         1\n",
              "정주리                        1\n",
              "형슬우                        1\n",
              "임성용                        1\n",
              "김태준                        1\n",
              "권혁재                        1\n",
              "곽정덕                        1\n",
              "김덕중                        1\n",
              "김주환                        1\n",
              "이원태                        1\n",
              "이창열                        1\n",
              "민용근                        1\n",
              "박동기                        1\n",
              "최창환                        1\n",
              "배인우                        1\n",
              "박성광                        1\n",
              "임성운                        1\n",
              "김현정                        1\n",
              "장항준                        1\n",
              "이소현                        1\n",
              "최주연                        1\n",
              "Name: count, dtype: int64"
            ],
            "text/html": [
              "<div>\n",
              "<style scoped>\n",
              "    .dataframe tbody tr th:only-of-type {\n",
              "        vertical-align: middle;\n",
              "    }\n",
              "\n",
              "    .dataframe tbody tr th {\n",
              "        vertical-align: top;\n",
              "    }\n",
              "\n",
              "    .dataframe thead th {\n",
              "        text-align: right;\n",
              "    }\n",
              "</style>\n",
              "<table border=\"1\" class=\"dataframe\">\n",
              "  <thead>\n",
              "    <tr style=\"text-align: right;\">\n",
              "      <th></th>\n",
              "      <th>count</th>\n",
              "    </tr>\n",
              "    <tr>\n",
              "      <th>감독</th>\n",
              "      <th></th>\n",
              "    </tr>\n",
              "  </thead>\n",
              "  <tbody>\n",
              "    <tr>\n",
              "      <th>최윤호</th>\n",
              "      <td>2</td>\n",
              "    </tr>\n",
              "    <tr>\n",
              "      <th>마대윤</th>\n",
              "      <td>1</td>\n",
              "    </tr>\n",
              "    <tr>\n",
              "      <th>장형모</th>\n",
              "      <td>1</td>\n",
              "    </tr>\n",
              "    <tr>\n",
              "      <th>최세환</th>\n",
              "      <td>1</td>\n",
              "    </tr>\n",
              "    <tr>\n",
              "      <th>이송희일</th>\n",
              "      <td>1</td>\n",
              "    </tr>\n",
              "    <tr>\n",
              "      <th>신근호</th>\n",
              "      <td>1</td>\n",
              "    </tr>\n",
              "    <tr>\n",
              "      <th>홍상수</th>\n",
              "      <td>1</td>\n",
              "    </tr>\n",
              "    <tr>\n",
              "      <th>양경희</th>\n",
              "      <td>1</td>\n",
              "    </tr>\n",
              "    <tr>\n",
              "      <th>이원석</th>\n",
              "      <td>1</td>\n",
              "    </tr>\n",
              "    <tr>\n",
              "      <th>조은성</th>\n",
              "      <td>1</td>\n",
              "    </tr>\n",
              "    <tr>\n",
              "      <th>양윤모</th>\n",
              "      <td>1</td>\n",
              "    </tr>\n",
              "    <tr>\n",
              "      <th>이병헌</th>\n",
              "      <td>1</td>\n",
              "    </tr>\n",
              "    <tr>\n",
              "      <th>문신구</th>\n",
              "      <td>1</td>\n",
              "    </tr>\n",
              "    <tr>\n",
              "      <th>임재완</th>\n",
              "      <td>1</td>\n",
              "    </tr>\n",
              "    <tr>\n",
              "      <th>이상훈</th>\n",
              "      <td>1</td>\n",
              "    </tr>\n",
              "    <tr>\n",
              "      <th>박동훈, 최하나, 송현주, 한인미, 윤성호</th>\n",
              "      <td>1</td>\n",
              "    </tr>\n",
              "    <tr>\n",
              "      <th>이수성</th>\n",
              "      <td>1</td>\n",
              "    </tr>\n",
              "    <tr>\n",
              "      <th>이현준</th>\n",
              "      <td>1</td>\n",
              "    </tr>\n",
              "    <tr>\n",
              "      <th>최승연</th>\n",
              "      <td>1</td>\n",
              "    </tr>\n",
              "    <tr>\n",
              "      <th>가성문</th>\n",
              "      <td>1</td>\n",
              "    </tr>\n",
              "    <tr>\n",
              "      <th>이상용</th>\n",
              "      <td>1</td>\n",
              "    </tr>\n",
              "    <tr>\n",
              "      <th>이종필</th>\n",
              "      <td>1</td>\n",
              "    </tr>\n",
              "    <tr>\n",
              "      <th>김홍기</th>\n",
              "      <td>1</td>\n",
              "    </tr>\n",
              "    <tr>\n",
              "      <th>황승제</th>\n",
              "      <td>1</td>\n",
              "    </tr>\n",
              "    <tr>\n",
              "      <th>이황</th>\n",
              "      <td>1</td>\n",
              "    </tr>\n",
              "    <tr>\n",
              "      <th>박훈정</th>\n",
              "      <td>1</td>\n",
              "    </tr>\n",
              "    <tr>\n",
              "      <th>신재호</th>\n",
              "      <td>1</td>\n",
              "    </tr>\n",
              "    <tr>\n",
              "      <th>윤여창</th>\n",
              "      <td>1</td>\n",
              "    </tr>\n",
              "    <tr>\n",
              "      <th>이완민</th>\n",
              "      <td>1</td>\n",
              "    </tr>\n",
              "    <tr>\n",
              "      <th>한경탁</th>\n",
              "      <td>1</td>\n",
              "    </tr>\n",
              "    <tr>\n",
              "      <th>최종태</th>\n",
              "      <td>1</td>\n",
              "    </tr>\n",
              "    <tr>\n",
              "      <th>김성환</th>\n",
              "      <td>1</td>\n",
              "    </tr>\n",
              "    <tr>\n",
              "      <th>서동현</th>\n",
              "      <td>1</td>\n",
              "    </tr>\n",
              "    <tr>\n",
              "      <th>이영용</th>\n",
              "      <td>1</td>\n",
              "    </tr>\n",
              "    <tr>\n",
              "      <th>임순례</th>\n",
              "      <td>1</td>\n",
              "    </tr>\n",
              "    <tr>\n",
              "      <th>이해영</th>\n",
              "      <td>1</td>\n",
              "    </tr>\n",
              "    <tr>\n",
              "      <th>연상호</th>\n",
              "      <td>1</td>\n",
              "    </tr>\n",
              "    <tr>\n",
              "      <th>주영</th>\n",
              "      <td>1</td>\n",
              "    </tr>\n",
              "    <tr>\n",
              "      <th>정주리</th>\n",
              "      <td>1</td>\n",
              "    </tr>\n",
              "    <tr>\n",
              "      <th>형슬우</th>\n",
              "      <td>1</td>\n",
              "    </tr>\n",
              "    <tr>\n",
              "      <th>임성용</th>\n",
              "      <td>1</td>\n",
              "    </tr>\n",
              "    <tr>\n",
              "      <th>김태준</th>\n",
              "      <td>1</td>\n",
              "    </tr>\n",
              "    <tr>\n",
              "      <th>권혁재</th>\n",
              "      <td>1</td>\n",
              "    </tr>\n",
              "    <tr>\n",
              "      <th>곽정덕</th>\n",
              "      <td>1</td>\n",
              "    </tr>\n",
              "    <tr>\n",
              "      <th>김덕중</th>\n",
              "      <td>1</td>\n",
              "    </tr>\n",
              "    <tr>\n",
              "      <th>김주환</th>\n",
              "      <td>1</td>\n",
              "    </tr>\n",
              "    <tr>\n",
              "      <th>이원태</th>\n",
              "      <td>1</td>\n",
              "    </tr>\n",
              "    <tr>\n",
              "      <th>이창열</th>\n",
              "      <td>1</td>\n",
              "    </tr>\n",
              "    <tr>\n",
              "      <th>민용근</th>\n",
              "      <td>1</td>\n",
              "    </tr>\n",
              "    <tr>\n",
              "      <th>박동기</th>\n",
              "      <td>1</td>\n",
              "    </tr>\n",
              "    <tr>\n",
              "      <th>최창환</th>\n",
              "      <td>1</td>\n",
              "    </tr>\n",
              "    <tr>\n",
              "      <th>배인우</th>\n",
              "      <td>1</td>\n",
              "    </tr>\n",
              "    <tr>\n",
              "      <th>박성광</th>\n",
              "      <td>1</td>\n",
              "    </tr>\n",
              "    <tr>\n",
              "      <th>임성운</th>\n",
              "      <td>1</td>\n",
              "    </tr>\n",
              "    <tr>\n",
              "      <th>김현정</th>\n",
              "      <td>1</td>\n",
              "    </tr>\n",
              "    <tr>\n",
              "      <th>장항준</th>\n",
              "      <td>1</td>\n",
              "    </tr>\n",
              "    <tr>\n",
              "      <th>이소현</th>\n",
              "      <td>1</td>\n",
              "    </tr>\n",
              "    <tr>\n",
              "      <th>최주연</th>\n",
              "      <td>1</td>\n",
              "    </tr>\n",
              "  </tbody>\n",
              "</table>\n",
              "</div><br><label><b>dtype:</b> int64</label>"
            ]
          },
          "metadata": {},
          "execution_count": 68
        }
      ]
    },
    {
      "cell_type": "markdown",
      "source": [
        "### 중복되는 감독 리스트 분리"
      ],
      "metadata": {
        "id": "MQGz-9ollUfd"
      }
    },
    {
      "cell_type": "code",
      "source": [
        "df['감독_리스트'] = df['감독'].str.split(', ')\n",
        "print(df[['감독', '감독_리스트']])"
      ],
      "metadata": {
        "colab": {
          "base_uri": "https://localhost:8080/"
        },
        "id": "ZiGD99NzeGvn",
        "outputId": "ad144a29-019d-4af8-a95b-f7d3d2f56098"
      },
      "execution_count": 69,
      "outputs": [
        {
          "output_type": "stream",
          "name": "stdout",
          "text": [
            "                         감독                     감독_리스트\n",
            "0                       마대윤                      [마대윤]\n",
            "1                       이수성                      [이수성]\n",
            "2                       서동현                      [서동현]\n",
            "3                       이영용                      [이영용]\n",
            "4                       임순례                      [임순례]\n",
            "5                       이해영                      [이해영]\n",
            "6                       연상호                      [연상호]\n",
            "7                        주영                       [주영]\n",
            "8                       정주리                      [정주리]\n",
            "9                       형슬우                      [형슬우]\n",
            "10                      임성용                      [임성용]\n",
            "11                      김태준                      [김태준]\n",
            "12                      권혁재                      [권혁재]\n",
            "13                      곽정덕                      [곽정덕]\n",
            "14                      김덕중                      [김덕중]\n",
            "15                      김주환                      [김주환]\n",
            "16                      이원태                      [이원태]\n",
            "17                      이창열                      [이창열]\n",
            "18                      민용근                      [민용근]\n",
            "19                      박동기                      [박동기]\n",
            "20                      최창환                      [최창환]\n",
            "21                      배인우                      [배인우]\n",
            "22                      박성광                      [박성광]\n",
            "23                      임성운                      [임성운]\n",
            "24                      김현정                      [김현정]\n",
            "25                      장항준                      [장항준]\n",
            "26                      이소현                      [이소현]\n",
            "27                      김성환                      [김성환]\n",
            "28                      최종태                      [최종태]\n",
            "29                      한경탁                      [한경탁]\n",
            "30                      이완민                      [이완민]\n",
            "31                      최세환                      [최세환]\n",
            "32                     이송희일                     [이송희일]\n",
            "33                      신근호                      [신근호]\n",
            "34                      홍상수                      [홍상수]\n",
            "35                      양경희                      [양경희]\n",
            "36                      이원석                      [이원석]\n",
            "37                      조은성                      [조은성]\n",
            "38                      양윤모                      [양윤모]\n",
            "39                      이병헌                      [이병헌]\n",
            "40                      문신구                      [문신구]\n",
            "41                      임재완                      [임재완]\n",
            "42                      이상훈                      [이상훈]\n",
            "43                      장형모                      [장형모]\n",
            "44  박동훈, 최하나, 송현주, 한인미, 윤성호  [박동훈, 최하나, 송현주, 한인미, 윤성호]\n",
            "45                      이현준                      [이현준]\n",
            "46                      최승연                      [최승연]\n",
            "47                      가성문                      [가성문]\n",
            "48                      이상용                      [이상용]\n",
            "49                      이종필                      [이종필]\n",
            "50                      김홍기                      [김홍기]\n",
            "51                      황승제                      [황승제]\n",
            "52                       이황                       [이황]\n",
            "53                      최윤호                      [최윤호]\n",
            "54                      박훈정                      [박훈정]\n",
            "55                      최윤호                      [최윤호]\n",
            "56                      신재호                      [신재호]\n",
            "57                      윤여창                      [윤여창]\n",
            "58                      최주연                      [최주연]\n"
          ]
        }
      ]
    },
    {
      "cell_type": "code",
      "source": [
        "exploded_df = df.explode('감독_리스트')\n",
        "print(exploded_df[['감독_리스트']])\n"
      ],
      "metadata": {
        "colab": {
          "base_uri": "https://localhost:8080/"
        },
        "id": "Mf1Pls6TfQIc",
        "outputId": "7ba82cdf-7ea6-490d-d6e8-854e4e3b6875"
      },
      "execution_count": 70,
      "outputs": [
        {
          "output_type": "stream",
          "name": "stdout",
          "text": [
            "   감독_리스트\n",
            "0     마대윤\n",
            "1     이수성\n",
            "2     서동현\n",
            "3     이영용\n",
            "4     임순례\n",
            "..    ...\n",
            "54    박훈정\n",
            "55    최윤호\n",
            "56    신재호\n",
            "57    윤여창\n",
            "58    최주연\n",
            "\n",
            "[63 rows x 1 columns]\n"
          ]
        }
      ]
    },
    {
      "cell_type": "code",
      "source": [
        "directors_counts = exploded_df['감독_리스트'].value_counts()\n",
        "\n",
        "print(\"감독별 영화 개수:\")\n",
        "print(directors_counts)"
      ],
      "metadata": {
        "colab": {
          "base_uri": "https://localhost:8080/"
        },
        "id": "cGA5lvrgfYQv",
        "outputId": "614c6f06-f4fd-4a1b-ca1f-5518d9ef354d"
      },
      "execution_count": 71,
      "outputs": [
        {
          "output_type": "stream",
          "name": "stdout",
          "text": [
            "감독별 영화 개수:\n",
            "감독_리스트\n",
            "최윤호    2\n",
            "마대윤    1\n",
            "송현주    1\n",
            "신근호    1\n",
            "홍상수    1\n",
            "      ..\n",
            "장항준    1\n",
            "이소현    1\n",
            "김성환    1\n",
            "최종태    1\n",
            "최주연    1\n",
            "Name: count, Length: 62, dtype: int64\n"
          ]
        }
      ]
    },
    {
      "cell_type": "markdown",
      "source": [
        "### 중복 출연한 출연진 리스트"
      ],
      "metadata": {
        "id": "CoyNUjeWlZiG"
      }
    },
    {
      "cell_type": "code",
      "source": [
        "df['출연진_리스트'] = df['출연진'].str.split(', ')\n",
        "print(df[['출연진', '출연진_리스트']])"
      ],
      "metadata": {
        "colab": {
          "base_uri": "https://localhost:8080/"
        },
        "id": "lMXhcASxfhTP",
        "outputId": "33e6e2d9-24ab-4bd7-cf02-4316d306f772"
      },
      "execution_count": 72,
      "outputs": [
        {
          "output_type": "stream",
          "name": "stdout",
          "text": [
            "                                                  출연진  \\\n",
            "0                              권상우, 오정세, 이민정, 박소이, 김준   \n",
            "1                                             지일주, 지연   \n",
            "2                                                 정가은   \n",
            "3                                                 송민경   \n",
            "4                                        황정민, 현빈, 강기영   \n",
            "5                        설경구, 이하늬, 박소감, 박해수, 서현우, 김동희   \n",
            "6                                       강수연, 김현주, 류경수   \n",
            "7                                  임선우, 김명찬, 이장유, 박현숙   \n",
            "8                                  김시은, 배두나, 박우영, 정수하   \n",
            "9                                  이동휘, 정은채, 강길우, 정다은   \n",
            "10                       윤시윤, 설인아, 노상현, 문지인, 이규복, 김영웅   \n",
            "11                                      천우희, 임시완, 김희원   \n",
            "12                       진선규, 성유빈, 오나라, 고창석, 장동주, 고규필   \n",
            "13                            신현준, 이문식, 김민경, 홍은기, 최성원   \n",
            "14                        조은지, 박종환, 곽민규, 소이, 송은지, 곽진무   \n",
            "15                                           유연석, 차태현   \n",
            "16                                      조진웅, 이성민, 김무열   \n",
            "17                                      선동혁, 정아미, 박종진   \n",
            "18                                      김다미, 전소니, 변우석   \n",
            "19                  신민재, 송보은, 이경욱, 설유진, 현진영, 박동기, 김세환   \n",
            "20                       강길우, 강진아, 김시은, 변중희, 이한주, 정수지   \n",
            "21                  오준택, 임지섭, 박해인, 장영준, 방진원, 서지안, 채수아   \n",
            "22        박성웅, 이이경, 염혜란, 최민수, 오달수, 윤제문, 백지혜, 서동원, 한다솔   \n",
            "23                                      허준석, 이영석, 남보라   \n",
            "24                                            이설, 박지수   \n",
            "25                                           안재홍, 양한열   \n",
            "26                  김명임, 김도현, 김순덕, 박유신, 이미경, 최지연, 박혜영   \n",
            "27                                           양홍주, 나현준   \n",
            "28                                       이음, 윤가현, 인내상   \n",
            "29         오원빈, 서지희, 심현탁, 박정철, 김수하, 김민, 김봉주, 조수빈, 정병훈   \n",
            "30                                       옥자연, 기윤, 하민호   \n",
            "31                       박호산, 신애리, 백수련, 이노아, 정혜인, 이용녀   \n",
            "32                   윤박, 우지현, 박미현, 장희령, 이대연, 박소진, 유인수   \n",
            "33                 조한선, 정지운, 정태우, 노수산나, 박순천, 정인기, 이지원   \n",
            "34                            신석호, 하성국, 김승윤, 김민희, 김소령   \n",
            "35                                           박정우, 박영훈   \n",
            "36                                  이하늬, 이선균, 공명, 김상욱   \n",
            "37                                 심희섭, 전혜진, 한승도, 박수영   \n",
            "38                       유다인, 김다현, 문희경, 김정균, 진혜원, 이지용   \n",
            "39   박서준, 아이유, 김종수, 고창석, 정승길, 이현우, 양현민, 홍완표, 허준석, 이하늬   \n",
            "40                                           허지나, 남명렬   \n",
            "41                                           장동윤, 박유나   \n",
            "42                            차선우, 유지애, 김소희, 이원석, 서지후   \n",
            "43                            이푸름, 권민혁, 김준형, 심소영, 김모범   \n",
            "44   김경일, 양현민, 김소형, 김우겸, 정승길, 조윤서, 신사랑, 오경화, 서벽준, 정유연   \n",
            "45                                      윤성모, 정미미, 장원혁   \n",
            "46                  박성일, 공민정, 임지호, 전신환, 송덕호, 최준혁, 한태경   \n",
            "47                                 김선영, 이윤지, 최민영, 김용준   \n",
            "48  마동석, 이준혁, 아오키 무네타카, 이범수, 김민재, 이지훈, 김도건, 최동구, 이...   \n",
            "49                                                이나영   \n",
            "50                                      김재화, 조민재, 박강섭   \n",
            "51                            김강현, 차선우, 한수연, 신연서, 서은채   \n",
            "52                                                 소이   \n",
            "53                            김정팔, 박상욱, 신의현, 이경준, 유재인   \n",
            "54                                 김선호, 강태주, 김강우, 고아라   \n",
            "55                             이재원, 박상욱, 정서하, 허웅, 안수호   \n",
            "56                            서효림, 오지호, 김승수, 이설구, 노지유   \n",
            "57                                 정영주, 안미나, 배진아, 한가은   \n",
            "58                                      박성웅, 박선호, 김희정   \n",
            "\n",
            "                                              출연진_리스트  \n",
            "0                            [권상우, 오정세, 이민정, 박소이, 김준]  \n",
            "1                                           [지일주, 지연]  \n",
            "2                                               [정가은]  \n",
            "3                                               [송민경]  \n",
            "4                                      [황정민, 현빈, 강기영]  \n",
            "5                      [설경구, 이하늬, 박소감, 박해수, 서현우, 김동희]  \n",
            "6                                     [강수연, 김현주, 류경수]  \n",
            "7                                [임선우, 김명찬, 이장유, 박현숙]  \n",
            "8                                [김시은, 배두나, 박우영, 정수하]  \n",
            "9                                [이동휘, 정은채, 강길우, 정다은]  \n",
            "10                     [윤시윤, 설인아, 노상현, 문지인, 이규복, 김영웅]  \n",
            "11                                    [천우희, 임시완, 김희원]  \n",
            "12                     [진선규, 성유빈, 오나라, 고창석, 장동주, 고규필]  \n",
            "13                          [신현준, 이문식, 김민경, 홍은기, 최성원]  \n",
            "14                      [조은지, 박종환, 곽민규, 소이, 송은지, 곽진무]  \n",
            "15                                         [유연석, 차태현]  \n",
            "16                                    [조진웅, 이성민, 김무열]  \n",
            "17                                    [선동혁, 정아미, 박종진]  \n",
            "18                                    [김다미, 전소니, 변우석]  \n",
            "19                [신민재, 송보은, 이경욱, 설유진, 현진영, 박동기, 김세환]  \n",
            "20                     [강길우, 강진아, 김시은, 변중희, 이한주, 정수지]  \n",
            "21                [오준택, 임지섭, 박해인, 장영준, 방진원, 서지안, 채수아]  \n",
            "22      [박성웅, 이이경, 염혜란, 최민수, 오달수, 윤제문, 백지혜, 서동원, 한다솔]  \n",
            "23                                    [허준석, 이영석, 남보라]  \n",
            "24                                          [이설, 박지수]  \n",
            "25                                         [안재홍, 양한열]  \n",
            "26                [김명임, 김도현, 김순덕, 박유신, 이미경, 최지연, 박혜영]  \n",
            "27                                         [양홍주, 나현준]  \n",
            "28                                     [이음, 윤가현, 인내상]  \n",
            "29       [오원빈, 서지희, 심현탁, 박정철, 김수하, 김민, 김봉주, 조수빈, 정병훈]  \n",
            "30                                     [옥자연, 기윤, 하민호]  \n",
            "31                     [박호산, 신애리, 백수련, 이노아, 정혜인, 이용녀]  \n",
            "32                 [윤박, 우지현, 박미현, 장희령, 이대연, 박소진, 유인수]  \n",
            "33               [조한선, 정지운, 정태우, 노수산나, 박순천, 정인기, 이지원]  \n",
            "34                          [신석호, 하성국, 김승윤, 김민희, 김소령]  \n",
            "35                                         [박정우, 박영훈]  \n",
            "36                                [이하늬, 이선균, 공명, 김상욱]  \n",
            "37                               [심희섭, 전혜진, 한승도, 박수영]  \n",
            "38                     [유다인, 김다현, 문희경, 김정균, 진혜원, 이지용]  \n",
            "39  [박서준, 아이유, 김종수, 고창석, 정승길, 이현우, 양현민, 홍완표, 허준석, ...  \n",
            "40                                         [허지나, 남명렬]  \n",
            "41                                         [장동윤, 박유나]  \n",
            "42                          [차선우, 유지애, 김소희, 이원석, 서지후]  \n",
            "43                          [이푸름, 권민혁, 김준형, 심소영, 김모범]  \n",
            "44  [김경일, 양현민, 김소형, 김우겸, 정승길, 조윤서, 신사랑, 오경화, 서벽준, ...  \n",
            "45                                    [윤성모, 정미미, 장원혁]  \n",
            "46                [박성일, 공민정, 임지호, 전신환, 송덕호, 최준혁, 한태경]  \n",
            "47                               [김선영, 이윤지, 최민영, 김용준]  \n",
            "48  [마동석, 이준혁, 아오키 무네타카, 이범수, 김민재, 이지훈, 김도건, 최동구, ...  \n",
            "49                                              [이나영]  \n",
            "50                                    [김재화, 조민재, 박강섭]  \n",
            "51                          [김강현, 차선우, 한수연, 신연서, 서은채]  \n",
            "52                                               [소이]  \n",
            "53                          [김정팔, 박상욱, 신의현, 이경준, 유재인]  \n",
            "54                               [김선호, 강태주, 김강우, 고아라]  \n",
            "55                           [이재원, 박상욱, 정서하, 허웅, 안수호]  \n",
            "56                          [서효림, 오지호, 김승수, 이설구, 노지유]  \n",
            "57                               [정영주, 안미나, 배진아, 한가은]  \n",
            "58                                    [박성웅, 박선호, 김희정]  \n"
          ]
        }
      ]
    },
    {
      "cell_type": "code",
      "source": [
        "exploded_df = df.explode('출연진_리스트')\n",
        "print(exploded_df[['출연진_리스트']])"
      ],
      "metadata": {
        "colab": {
          "base_uri": "https://localhost:8080/"
        },
        "id": "h84ct7PIgoUQ",
        "outputId": "d00cc459-c366-411d-ca9d-20833ff3abf5"
      },
      "execution_count": 73,
      "outputs": [
        {
          "output_type": "stream",
          "name": "stdout",
          "text": [
            "   출연진_리스트\n",
            "0      권상우\n",
            "0      오정세\n",
            "0      이민정\n",
            "0      박소이\n",
            "0       김준\n",
            "..     ...\n",
            "57     배진아\n",
            "57     한가은\n",
            "58     박성웅\n",
            "58     박선호\n",
            "58     김희정\n",
            "\n",
            "[275 rows x 1 columns]\n"
          ]
        }
      ]
    },
    {
      "cell_type": "code",
      "source": [
        "actors_counts = exploded_df['출연진_리스트'].value_counts()\n",
        "\n",
        "print(\"출연진별 영화 개수:\")\n",
        "print(actors_counts)"
      ],
      "metadata": {
        "colab": {
          "base_uri": "https://localhost:8080/"
        },
        "id": "dz0Rrw8lgtNC",
        "outputId": "01acb2e8-2c9d-415e-e2b3-8e68e90a37e8"
      },
      "execution_count": 74,
      "outputs": [
        {
          "output_type": "stream",
          "name": "stdout",
          "text": [
            "출연진별 영화 개수:\n",
            "출연진_리스트\n",
            "이하늬    3\n",
            "고규필    2\n",
            "고창석    2\n",
            "차선우    2\n",
            "소이     2\n",
            "      ..\n",
            "한다솔    1\n",
            "이영석    1\n",
            "남보라    1\n",
            "이설     1\n",
            "김희정    1\n",
            "Name: count, Length: 262, dtype: int64\n"
          ]
        }
      ]
    },
    {
      "cell_type": "markdown",
      "source": [
        "### 분리된 감독, 출연진 출력"
      ],
      "metadata": {
        "id": "KClBZPSglffZ"
      }
    },
    {
      "cell_type": "code",
      "source": [
        "multiple_movies_directors = directors_counts[directors_counts > 1]\n",
        "print(\"여러 영화를 작업한 감독:\")\n",
        "print(multiple_movies_directors)"
      ],
      "metadata": {
        "colab": {
          "base_uri": "https://localhost:8080/"
        },
        "id": "8Pd-VJbGg490",
        "outputId": "c7c38850-04da-43ac-836d-f928281f119c"
      },
      "execution_count": 75,
      "outputs": [
        {
          "output_type": "stream",
          "name": "stdout",
          "text": [
            "여러 영화를 작업한 감독:\n",
            "감독_리스트\n",
            "최윤호    2\n",
            "Name: count, dtype: int64\n"
          ]
        }
      ]
    },
    {
      "cell_type": "code",
      "source": [
        "multiple_movies_actors = actors_counts[actors_counts > 1]\n",
        "print(\"여러 영화에 출연한 배우:\")\n",
        "print(multiple_movies_actors)"
      ],
      "metadata": {
        "colab": {
          "base_uri": "https://localhost:8080/"
        },
        "id": "VrSdAzLqkiqj",
        "outputId": "6f2cb020-fe87-481a-e2d9-562c0effb249"
      },
      "execution_count": 76,
      "outputs": [
        {
          "output_type": "stream",
          "name": "stdout",
          "text": [
            "여러 영화에 출연한 배우:\n",
            "출연진_리스트\n",
            "이하늬    3\n",
            "고규필    2\n",
            "고창석    2\n",
            "차선우    2\n",
            "소이     2\n",
            "박상욱    2\n",
            "김시은    2\n",
            "박성웅    2\n",
            "강길우    2\n",
            "양현민    2\n",
            "허준석    2\n",
            "정승길    2\n",
            "Name: count, dtype: int64\n"
          ]
        }
      ]
    },
    {
      "cell_type": "code",
      "source": [
        "genres_counts = df['장르'].value_counts()\n",
        "print(\"장르별 영화 개수:\")\n",
        "print(genres_counts)"
      ],
      "metadata": {
        "colab": {
          "base_uri": "https://localhost:8080/"
        },
        "id": "qEOuGDIcklEW",
        "outputId": "4ccd9b88-4aa1-4687-f9b1-f89735e3f3b8"
      },
      "execution_count": 77,
      "outputs": [
        {
          "output_type": "stream",
          "name": "stdout",
          "text": [
            "장르별 영화 개수:\n",
            "장르\n",
            "드라마                27\n",
            "액션                  5\n",
            "코미디                 4\n",
            "멜로·로맨스              3\n",
            "기타                  2\n",
            "멜로/로맨스              2\n",
            "멜로·로맨스·코미디          2\n",
            "스릴러                 2\n",
            "범죄·액션·스럴리           1\n",
            "공포,코미디              1\n",
            "범죄, 액션              1\n",
            "공포·미스터리             1\n",
            "드라마,멜로              1\n",
            "코미디, 액션             1\n",
            "멜로,로맨스,드라마          1\n",
            "다큐멘터리               1\n",
            "드라마, 멜로·로맨스, 가족     1\n",
            "범죄, 드라마             1\n",
            "SF                  1\n",
            "범죄                  1\n",
            "Name: count, dtype: int64\n"
          ]
        }
      ]
    },
    {
      "cell_type": "markdown",
      "source": [
        "### 추천하는 기준 설정"
      ],
      "metadata": {
        "id": "dihl-dTZll7t"
      }
    },
    {
      "cell_type": "markdown",
      "source": [
        "#### 인기 배우 기준"
      ],
      "metadata": {
        "id": "3ojQy9ztmTSe"
      }
    },
    {
      "cell_type": "code",
      "source": [
        "popular_actors = actors_counts[actors_counts > 1].index"
      ],
      "metadata": {
        "id": "wTx4_F5-mV1O"
      },
      "execution_count": 78,
      "outputs": []
    },
    {
      "cell_type": "code",
      "source": [
        "recommended_movies_actor = df[df['출연진_리스트'].apply(lambda x: any(a in x for a in popular_actors))]\n",
        "print(\"인기 배우가 출연한 영화:\")\n",
        "print(recommended_movies_actor[['제목', '출연진']])"
      ],
      "metadata": {
        "colab": {
          "base_uri": "https://localhost:8080/"
        },
        "id": "aKIw4uM9mjlc",
        "outputId": "1faf4ec7-db5b-429a-ea46-03459613e4d2"
      },
      "execution_count": 79,
      "outputs": [
        {
          "output_type": "stream",
          "name": "stdout",
          "text": [
            "인기 배우가 출연한 영화:\n",
            "                  제목                                                출연진\n",
            "5                 유령                       설경구, 이하늬, 박소감, 박해수, 서현우, 김동희\n",
            "8              다음 소희                                 김시은, 배두나, 박우영, 정수하\n",
            "9   어쩌면 우린 헤어졌는지 모른다                                 이동휘, 정은채, 강길우, 정다은\n",
            "12               카운트                       진선규, 성유빈, 오나라, 고창석, 장동주, 고규필\n",
            "14             컨버세이션                        조은지, 박종환, 곽민규, 소이, 송은지, 곽진무\n",
            "20           여섯 개의 밤                       강길우, 강진아, 김시은, 변중희, 이한주, 정수지\n",
            "22               웅남이        박성웅, 이이경, 염혜란, 최민수, 오달수, 윤제문, 백지혜, 서동원, 한다솔\n",
            "23         찬란한 나의 복수                                      허준석, 이영석, 남보라\n",
            "36            킬링 로맨스                                  이하늬, 이선균, 공명, 김상욱\n",
            "39                드림   박서준, 아이유, 김종수, 고창석, 정승길, 이현우, 양현민, 홍완표, 허준석, 이하늬\n",
            "42              바람개비                            차선우, 유지애, 김소희, 이원석, 서지후\n",
            "44        말이야 바른 말이지   김경일, 양현민, 김소형, 김우겸, 정승길, 조윤서, 신사랑, 오경화, 서벽준, 정유연\n",
            "48            범죄도시 3  마동석, 이준혁, 아오키 무네타카, 이범수, 김민재, 이지훈, 김도건, 최동구, 이...\n",
            "51             안나푸르나                            김강현, 차선우, 한수연, 신연서, 서은채\n",
            "52              육지것들                                                 소이\n",
            "53               실버맨                            김정팔, 박상욱, 신의현, 이경준, 유재인\n",
            "55                 손                             이재원, 박상욱, 정서하, 허웅, 안수호\n",
            "58                라방                                      박성웅, 박선호, 김희정\n"
          ]
        }
      ]
    },
    {
      "cell_type": "markdown",
      "source": [
        "#### 장르 기반 추천"
      ],
      "metadata": {
        "id": "1g6Fu-6Zm-0V"
      }
    },
    {
      "cell_type": "code",
      "source": [
        "unique_genres = df['장르'].unique()\n",
        "print(\"장르 종류: \")\n",
        "print(unique_genres)"
      ],
      "metadata": {
        "colab": {
          "base_uri": "https://localhost:8080/"
        },
        "id": "gzCFl8gznBVO",
        "outputId": "1b0bb96c-d673-4696-929c-c55243cd4bfe"
      },
      "execution_count": 80,
      "outputs": [
        {
          "output_type": "stream",
          "name": "stdout",
          "text": [
            "장르 종류: \n",
            "['기타' '드라마' '멜로/로맨스' '액션' 'SF' '멜로·로맨스·코미디' '스릴러' '범죄, 드라마'\n",
            " '드라마, 멜로·로맨스, 가족' '멜로·로맨스' '코미디, 액션' '다큐멘터리' '멜로,로맨스,드라마' '범죄·액션·스럴리'\n",
            " '드라마,멜로' '코미디' '공포·미스터리' '범죄, 액션' '공포,코미디' '범죄']\n"
          ]
        }
      ]
    },
    {
      "cell_type": "code",
      "source": [
        "all_genres = df['장르'].str.split(r'[·,/]', expand=False).explode().str.strip().unique()\n"
      ],
      "metadata": {
        "id": "4Ejpvb7lg36a"
      },
      "execution_count": 81,
      "outputs": []
    },
    {
      "cell_type": "code",
      "source": [
        "all_genres"
      ],
      "metadata": {
        "colab": {
          "base_uri": "https://localhost:8080/"
        },
        "id": "Ego8Qk-ug7g5",
        "outputId": "9274e343-c831-46a7-c745-2bdaa3bcd8e5"
      },
      "execution_count": 82,
      "outputs": [
        {
          "output_type": "execute_result",
          "data": {
            "text/plain": [
              "array(['기타', '드라마', '멜로', '로맨스', '액션', 'SF', '코미디', '스릴러', '범죄', '가족',\n",
              "       '다큐멘터리', '스럴리', '공포', '미스터리'], dtype=object)"
            ]
          },
          "metadata": {},
          "execution_count": 82
        }
      ]
    },
    {
      "cell_type": "code",
      "source": [
        "preffered_genre = \"액션\""
      ],
      "metadata": {
        "id": "xaItNM34na_E"
      },
      "execution_count": 83,
      "outputs": []
    },
    {
      "cell_type": "code",
      "source": [
        "recommended_genre = df[df['장르'].str.contains(preffered_genre, na=False)]\n",
        "print(f\"선호하는 장르 '{preffered_genre}'의 영화:\")\n",
        "print(recommended_genre[['제목', '장르']])"
      ],
      "metadata": {
        "colab": {
          "base_uri": "https://localhost:8080/"
        },
        "id": "Oa4F6mKqu05P",
        "outputId": "d6251d59-a75b-415f-e00b-cad46ec3e9ae"
      },
      "execution_count": 84,
      "outputs": [
        {
          "output_type": "stream",
          "name": "stdout",
          "text": [
            "선호하는 장르 '액션'의 영화:\n",
            "           제목         장르\n",
            "5          유령         액션\n",
            "13         살수         액션\n",
            "22        웅남이    코미디, 액션\n",
            "33  나는 여기에 있다  범죄·액션·스럴리\n",
            "42       바람개비         액션\n",
            "48     범죄도시 3     범죄, 액션\n",
            "54        귀공자         액션\n",
            "56        인드림         액션\n"
          ]
        }
      ]
    },
    {
      "cell_type": "markdown",
      "source": [
        "### 상위 3개 영화 추천(장르 기반)"
      ],
      "metadata": {
        "id": "7KAs1KyVvDuQ"
      }
    },
    {
      "cell_type": "code",
      "source": [
        "top_n = 3"
      ],
      "metadata": {
        "id": "ZR5KOfyWvHEI"
      },
      "execution_count": 85,
      "outputs": []
    },
    {
      "cell_type": "code",
      "source": [
        "print(\"상위 3개 영화:\")\n",
        "print(recommended_genre.head(top_n)[['제목', '감독']])"
      ],
      "metadata": {
        "colab": {
          "base_uri": "https://localhost:8080/"
        },
        "id": "kUCPqtkqvIpU",
        "outputId": "2dc2fc81-94fb-44ba-9fb5-8679c9f2ad15"
      },
      "execution_count": 86,
      "outputs": [
        {
          "output_type": "stream",
          "name": "stdout",
          "text": [
            "상위 3개 영화:\n",
            "     제목   감독\n",
            "5    유령  이해영\n",
            "13   살수  곽정덕\n",
            "22  웅남이  박성광\n"
          ]
        }
      ]
    },
    {
      "cell_type": "markdown",
      "source": [
        "### 가장 많은 영화가 나온 개봉일자"
      ],
      "metadata": {
        "id": "gWTUOpN6Y5rb"
      }
    },
    {
      "cell_type": "code",
      "source": [
        "release_date_counts = df['개봉일'].value_counts()"
      ],
      "metadata": {
        "id": "jQLle_j0Y64l"
      },
      "execution_count": 87,
      "outputs": []
    },
    {
      "cell_type": "code",
      "source": [
        "release_date_counts"
      ],
      "metadata": {
        "colab": {
          "base_uri": "https://localhost:8080/",
          "height": 1000
        },
        "id": "GJ5CU5NVa7ea",
        "outputId": "b22af5d9-9dae-40c3-ff8d-5eed5126c216"
      },
      "execution_count": 88,
      "outputs": [
        {
          "output_type": "execute_result",
          "data": {
            "text/plain": [
              "개봉일\n",
              "2023-04-12    6\n",
              "2023-03-29    5\n",
              "2023-04-05    4\n",
              "2023-05-10    3\n",
              "2023-06-21    3\n",
              "2023-02-08    3\n",
              "2023-06-28    2\n",
              "2023-06-07    2\n",
              "2023-05-31    2\n",
              "2023-03-01    2\n",
              "2023-02-22    2\n",
              "2023-06-08    2\n",
              "2023-01-18    2\n",
              "2023-01-12    2\n",
              "2023-04-19    2\n",
              "2023-04-27    1\n",
              "2023-05-24    1\n",
              "2023-05-18    1\n",
              "2023-06-14    1\n",
              "2023-05-17    1\n",
              "2023-01-04    1\n",
              "2023-04-26    1\n",
              "2023-04-14    1\n",
              "2023-01-05    1\n",
              "2023-03-23    1\n",
              "2023-03-15    1\n",
              "2023-03-08    1\n",
              "2023-02-23    1\n",
              "2023-02-17    1\n",
              "2023-01-25    1\n",
              "2023-01-20    1\n",
              "2023-04-06    1\n",
              "Name: count, dtype: int64"
            ],
            "text/html": [
              "<div>\n",
              "<style scoped>\n",
              "    .dataframe tbody tr th:only-of-type {\n",
              "        vertical-align: middle;\n",
              "    }\n",
              "\n",
              "    .dataframe tbody tr th {\n",
              "        vertical-align: top;\n",
              "    }\n",
              "\n",
              "    .dataframe thead th {\n",
              "        text-align: right;\n",
              "    }\n",
              "</style>\n",
              "<table border=\"1\" class=\"dataframe\">\n",
              "  <thead>\n",
              "    <tr style=\"text-align: right;\">\n",
              "      <th></th>\n",
              "      <th>count</th>\n",
              "    </tr>\n",
              "    <tr>\n",
              "      <th>개봉일</th>\n",
              "      <th></th>\n",
              "    </tr>\n",
              "  </thead>\n",
              "  <tbody>\n",
              "    <tr>\n",
              "      <th>2023-04-12</th>\n",
              "      <td>6</td>\n",
              "    </tr>\n",
              "    <tr>\n",
              "      <th>2023-03-29</th>\n",
              "      <td>5</td>\n",
              "    </tr>\n",
              "    <tr>\n",
              "      <th>2023-04-05</th>\n",
              "      <td>4</td>\n",
              "    </tr>\n",
              "    <tr>\n",
              "      <th>2023-05-10</th>\n",
              "      <td>3</td>\n",
              "    </tr>\n",
              "    <tr>\n",
              "      <th>2023-06-21</th>\n",
              "      <td>3</td>\n",
              "    </tr>\n",
              "    <tr>\n",
              "      <th>2023-02-08</th>\n",
              "      <td>3</td>\n",
              "    </tr>\n",
              "    <tr>\n",
              "      <th>2023-06-28</th>\n",
              "      <td>2</td>\n",
              "    </tr>\n",
              "    <tr>\n",
              "      <th>2023-06-07</th>\n",
              "      <td>2</td>\n",
              "    </tr>\n",
              "    <tr>\n",
              "      <th>2023-05-31</th>\n",
              "      <td>2</td>\n",
              "    </tr>\n",
              "    <tr>\n",
              "      <th>2023-03-01</th>\n",
              "      <td>2</td>\n",
              "    </tr>\n",
              "    <tr>\n",
              "      <th>2023-02-22</th>\n",
              "      <td>2</td>\n",
              "    </tr>\n",
              "    <tr>\n",
              "      <th>2023-06-08</th>\n",
              "      <td>2</td>\n",
              "    </tr>\n",
              "    <tr>\n",
              "      <th>2023-01-18</th>\n",
              "      <td>2</td>\n",
              "    </tr>\n",
              "    <tr>\n",
              "      <th>2023-01-12</th>\n",
              "      <td>2</td>\n",
              "    </tr>\n",
              "    <tr>\n",
              "      <th>2023-04-19</th>\n",
              "      <td>2</td>\n",
              "    </tr>\n",
              "    <tr>\n",
              "      <th>2023-04-27</th>\n",
              "      <td>1</td>\n",
              "    </tr>\n",
              "    <tr>\n",
              "      <th>2023-05-24</th>\n",
              "      <td>1</td>\n",
              "    </tr>\n",
              "    <tr>\n",
              "      <th>2023-05-18</th>\n",
              "      <td>1</td>\n",
              "    </tr>\n",
              "    <tr>\n",
              "      <th>2023-06-14</th>\n",
              "      <td>1</td>\n",
              "    </tr>\n",
              "    <tr>\n",
              "      <th>2023-05-17</th>\n",
              "      <td>1</td>\n",
              "    </tr>\n",
              "    <tr>\n",
              "      <th>2023-01-04</th>\n",
              "      <td>1</td>\n",
              "    </tr>\n",
              "    <tr>\n",
              "      <th>2023-04-26</th>\n",
              "      <td>1</td>\n",
              "    </tr>\n",
              "    <tr>\n",
              "      <th>2023-04-14</th>\n",
              "      <td>1</td>\n",
              "    </tr>\n",
              "    <tr>\n",
              "      <th>2023-01-05</th>\n",
              "      <td>1</td>\n",
              "    </tr>\n",
              "    <tr>\n",
              "      <th>2023-03-23</th>\n",
              "      <td>1</td>\n",
              "    </tr>\n",
              "    <tr>\n",
              "      <th>2023-03-15</th>\n",
              "      <td>1</td>\n",
              "    </tr>\n",
              "    <tr>\n",
              "      <th>2023-03-08</th>\n",
              "      <td>1</td>\n",
              "    </tr>\n",
              "    <tr>\n",
              "      <th>2023-02-23</th>\n",
              "      <td>1</td>\n",
              "    </tr>\n",
              "    <tr>\n",
              "      <th>2023-02-17</th>\n",
              "      <td>1</td>\n",
              "    </tr>\n",
              "    <tr>\n",
              "      <th>2023-01-25</th>\n",
              "      <td>1</td>\n",
              "    </tr>\n",
              "    <tr>\n",
              "      <th>2023-01-20</th>\n",
              "      <td>1</td>\n",
              "    </tr>\n",
              "    <tr>\n",
              "      <th>2023-04-06</th>\n",
              "      <td>1</td>\n",
              "    </tr>\n",
              "  </tbody>\n",
              "</table>\n",
              "</div><br><label><b>dtype:</b> int64</label>"
            ]
          },
          "metadata": {},
          "execution_count": 88
        }
      ]
    },
    {
      "cell_type": "code",
      "source": [
        "most_popular_date = release_date_counts.idxmax()"
      ],
      "metadata": {
        "id": "lELAE41gaT-g"
      },
      "execution_count": 89,
      "outputs": []
    },
    {
      "cell_type": "code",
      "source": [
        "print(most_popular_date)"
      ],
      "metadata": {
        "colab": {
          "base_uri": "https://localhost:8080/"
        },
        "id": "cjbqSToJa3lH",
        "outputId": "b82db628-49ae-4954-b829-a935c3e78fc5"
      },
      "execution_count": 90,
      "outputs": [
        {
          "output_type": "stream",
          "name": "stdout",
          "text": [
            "2023-04-12\n"
          ]
        }
      ]
    },
    {
      "cell_type": "code",
      "source": [
        "most_popular_date_count = release_date_counts.max()"
      ],
      "metadata": {
        "id": "4wBTwRChbiN3"
      },
      "execution_count": 91,
      "outputs": []
    },
    {
      "cell_type": "code",
      "source": [
        "print(most_popular_date_count)"
      ],
      "metadata": {
        "colab": {
          "base_uri": "https://localhost:8080/"
        },
        "id": "kHWUj7fdblLl",
        "outputId": "7ae17c84-5077-454d-d6d0-78e251029412"
      },
      "execution_count": 92,
      "outputs": [
        {
          "output_type": "stream",
          "name": "stdout",
          "text": [
            "6\n"
          ]
        }
      ]
    }
  ]
}